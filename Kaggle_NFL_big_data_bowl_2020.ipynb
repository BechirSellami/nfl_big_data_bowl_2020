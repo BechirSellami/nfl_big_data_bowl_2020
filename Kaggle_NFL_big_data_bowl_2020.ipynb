{
 "cells": [
  {
   "cell_type": "markdown",
   "metadata": {
    "id": "iEkC_YIlRhME"
   },
   "source": [
    "<h1><center>NFL BIG DATA BOWL 2020</center></h1>"
   ]
  },
  {
   "cell_type": "markdown",
   "metadata": {
    "id": "jEzRRLopRhMO"
   },
   "source": [
    "# Summary"
   ]
  },
  {
   "cell_type": "markdown",
   "metadata": {
    "id": "YagijJ_cRhMP"
   },
   "source": [
    "This notebook is an attempt to reproduce the winning solution of the \"NFL Big data bowl 2020\" competition hosted by Kaggle (https://www.kaggle.com/c/nfl-big-data-bowl-2020). In fact, the winning team discussed their approach and main ideas to solve this challenge [1], however, the code implementation itself wasn't shared. \n",
    "Therefore, I'll attempt to reproduce:\n",
    "- the data cleaning\n",
    "- Feature engineering\n",
    "- And model building steps based on the information available.\n",
    "\n",
    "The goal of this competition is to predict how many yards will an NFL player (the rusher) gain after receiving the ball. For that, we'll use features known at the time when the ball is handed off  to the rusher and forecast the yardage gained on a specific play (PlayId).\n",
    "\n",
    "To build the model, we'll assume that a rushing play consists of:\n",
    "\n",
    "- A rusher, whose aim is to run forward as far as possible.\n",
    "- 11 defense players who are trying to stop the rusher.\n",
    "- 10 remaining offense players trying to prevent defenders from blocking or tackling the rusher.\n",
    "\n",
    "This description already implies connections between which players are important and which might be less important."
   ]
  },
  {
   "cell_type": "markdown",
   "metadata": {
    "id": "WwcOWUyaRhMR"
   },
   "source": [
    "# Outline"
   ]
  },
  {
   "cell_type": "markdown",
   "metadata": {
    "id": "kDFwVgiRRhMR"
   },
   "source": [
    "* [Load the data](#Load-the-data)\n",
    "* [Data processing](#Data-processing)\n",
    "* [Modeling approach](#Modeling-approach)\n",
    "* [Converting a play into a 3D tensor](#Converting-a-play-into-a-3D-tensor)\n",
    "* [Display data for a play after conversion](#Display-data-for-a-play-after-conversion)\n",
    "* [Model architecture](#Model-architecture)"
   ]
  },
  {
   "cell_type": "code",
   "execution_count": null,
   "metadata": {
    "colab": {
     "base_uri": "https://localhost:8080/"
    },
    "id": "bfEx1o8NSgF4",
    "outputId": "b8f2cf19-c6df-4724-fa75-cbe616b4eace",
    "scrolled": true
   },
   "outputs": [
    {
     "name": "stdout",
     "output_type": "stream",
     "text": [
      "Drive already mounted at /content/gdrive; to attempt to forcibly remount, call drive.mount(\"/content/gdrive\", force_remount=True).\n"
     ]
    }
   ],
   "source": [
    "from google.colab import drive\n",
    "drive.mount('/content/gdrive')"
   ]
  },
  {
   "cell_type": "code",
   "execution_count": null,
   "metadata": {
    "id": "1TJE6tC8S9Y2"
   },
   "outputs": [],
   "source": [
    "import sys\n",
    "sys.path.append('/content/gdrive/MyDrive/nfl_big_data_bowl_2020/')"
   ]
  },
  {
   "cell_type": "code",
   "execution_count": null,
   "metadata": {
    "id": "KOcX7G50RhMT"
   },
   "outputs": [],
   "source": [
    "# Import packages"
   ]
  },
  {
   "cell_type": "code",
   "execution_count": null,
   "metadata": {
    "id": "X7ZIzyCkRhMT"
   },
   "outputs": [],
   "source": [
    "import warnings\n",
    "warnings.filterwarnings('ignore')"
   ]
  },
  {
   "cell_type": "code",
   "execution_count": null,
   "metadata": {
    "_cell_guid": "b1076dfc-b9ad-4769-8c92-a6c4dae69d19",
    "_uuid": "8f2839f25d086af736a60e9eeb907d3b93b6e0e5",
    "id": "VxK7ULvMRhMT"
   },
   "outputs": [],
   "source": [
    "import numpy as np # linear algebra\n",
    "import pandas as pd # data processing, CSV file I/O (e.g. pd.read_csv)\n",
    "import matplotlib.pyplot as plt\n",
    "import matplotlib.patches as patches\n",
    "import seaborn as sns\n",
    "import math\n",
    "import tensorflow as tf\n",
    "import keras\n",
    "from keras.layers import Input, Conv2D, Conv1D, MaxPooling1D, MaxPooling2D, Activation, Lambda, \\\n",
    "AvgPool1D, AvgPool2D, Add, BatchNormalization, Dense\n",
    "from keras.utils import to_categorical\n",
    "from keras import Model\n",
    "from keras.callbacks import Callback, EarlyStopping"
   ]
  },
  {
   "cell_type": "code",
   "execution_count": null,
   "metadata": {
    "id": "0CjaqW0vRhMV"
   },
   "outputs": [],
   "source": [
    "import keras.backend as K"
   ]
  },
  {
   "cell_type": "code",
   "execution_count": null,
   "metadata": {
    "id": "-YINUEeqRhMV"
   },
   "outputs": [],
   "source": [
    "pd.set_option('max_columns', 100)"
   ]
  },
  {
   "cell_type": "markdown",
   "metadata": {
    "id": "enemTkKRRhMV"
   },
   "source": [
    "# Load the data"
   ]
  },
  {
   "cell_type": "code",
   "execution_count": null,
   "metadata": {
    "_cell_guid": "79c7e3d0-c299-4dcb-8224-4455121ee9b0",
    "_uuid": "d629ff2d2480ee46fbb7e2d37f6b5fab8052498a",
    "id": "q6QxamoNRhMW"
   },
   "outputs": [],
   "source": [
    "train = pd.read_csv('/content/gdrive/MyDrive/nfl_big_data_bowl_2020/train.csv', low_memory=False)"
   ]
  },
  {
   "cell_type": "code",
   "execution_count": null,
   "metadata": {
    "id": "nKija5K0RhMW"
   },
   "outputs": [],
   "source": [
    "# Let's take a look at the data for a specific PlayId with the main columns of interest"
   ]
  },
  {
   "cell_type": "code",
   "execution_count": null,
   "metadata": {
    "id": "ExfBRPFCRhMW"
   },
   "outputs": [],
   "source": [
    "cols = ['PlayId', 'Team', 'X', 'Y', 'S', 'A', 'Dis', 'Dir', 'YardLine', 'PossessionTeam', 'NflIdRusher', \n",
    "        'PlayDirection', 'Yards', 'HomeTeamAbbr', 'VisitorTeamAbbr', 'FieldPosition']"
   ]
  },
  {
   "cell_type": "markdown",
   "metadata": {
    "id": "_F8S8PC_RhMX"
   },
   "source": [
    "#### Print data for a play"
   ]
  },
  {
   "cell_type": "code",
   "execution_count": null,
   "metadata": {
    "colab": {
     "base_uri": "https://localhost:8080/",
     "height": 751
    },
    "id": "IxBpeVgaRhMX",
    "outputId": "324b83b3-bc01-4984-fe65-5f099d1d93ee"
   },
   "outputs": [
    {
     "data": {
      "text/html": [
       "<div>\n",
       "<style scoped>\n",
       "    .dataframe tbody tr th:only-of-type {\n",
       "        vertical-align: middle;\n",
       "    }\n",
       "\n",
       "    .dataframe tbody tr th {\n",
       "        vertical-align: top;\n",
       "    }\n",
       "\n",
       "    .dataframe thead th {\n",
       "        text-align: right;\n",
       "    }\n",
       "</style>\n",
       "<table border=\"1\" class=\"dataframe\">\n",
       "  <thead>\n",
       "    <tr style=\"text-align: right;\">\n",
       "      <th></th>\n",
       "      <th>PlayId</th>\n",
       "      <th>Team</th>\n",
       "      <th>X</th>\n",
       "      <th>Y</th>\n",
       "      <th>S</th>\n",
       "      <th>A</th>\n",
       "      <th>Dis</th>\n",
       "      <th>Dir</th>\n",
       "      <th>YardLine</th>\n",
       "      <th>PossessionTeam</th>\n",
       "      <th>NflIdRusher</th>\n",
       "      <th>PlayDirection</th>\n",
       "      <th>Yards</th>\n",
       "      <th>HomeTeamAbbr</th>\n",
       "      <th>VisitorTeamAbbr</th>\n",
       "      <th>FieldPosition</th>\n",
       "    </tr>\n",
       "  </thead>\n",
       "  <tbody>\n",
       "    <tr>\n",
       "      <th>0</th>\n",
       "      <td>20170907000118</td>\n",
       "      <td>away</td>\n",
       "      <td>73.91</td>\n",
       "      <td>34.84</td>\n",
       "      <td>1.69</td>\n",
       "      <td>1.13</td>\n",
       "      <td>0.40</td>\n",
       "      <td>177.18</td>\n",
       "      <td>35</td>\n",
       "      <td>NE</td>\n",
       "      <td>2543773</td>\n",
       "      <td>left</td>\n",
       "      <td>8</td>\n",
       "      <td>NE</td>\n",
       "      <td>KC</td>\n",
       "      <td>NE</td>\n",
       "    </tr>\n",
       "    <tr>\n",
       "      <th>1</th>\n",
       "      <td>20170907000118</td>\n",
       "      <td>away</td>\n",
       "      <td>74.67</td>\n",
       "      <td>32.64</td>\n",
       "      <td>0.42</td>\n",
       "      <td>1.35</td>\n",
       "      <td>0.01</td>\n",
       "      <td>198.70</td>\n",
       "      <td>35</td>\n",
       "      <td>NE</td>\n",
       "      <td>2543773</td>\n",
       "      <td>left</td>\n",
       "      <td>8</td>\n",
       "      <td>NE</td>\n",
       "      <td>KC</td>\n",
       "      <td>NE</td>\n",
       "    </tr>\n",
       "    <tr>\n",
       "      <th>2</th>\n",
       "      <td>20170907000118</td>\n",
       "      <td>away</td>\n",
       "      <td>74.00</td>\n",
       "      <td>33.20</td>\n",
       "      <td>1.22</td>\n",
       "      <td>0.59</td>\n",
       "      <td>0.31</td>\n",
       "      <td>202.73</td>\n",
       "      <td>35</td>\n",
       "      <td>NE</td>\n",
       "      <td>2543773</td>\n",
       "      <td>left</td>\n",
       "      <td>8</td>\n",
       "      <td>NE</td>\n",
       "      <td>KC</td>\n",
       "      <td>NE</td>\n",
       "    </tr>\n",
       "    <tr>\n",
       "      <th>3</th>\n",
       "      <td>20170907000118</td>\n",
       "      <td>away</td>\n",
       "      <td>71.46</td>\n",
       "      <td>27.70</td>\n",
       "      <td>0.42</td>\n",
       "      <td>0.54</td>\n",
       "      <td>0.02</td>\n",
       "      <td>105.64</td>\n",
       "      <td>35</td>\n",
       "      <td>NE</td>\n",
       "      <td>2543773</td>\n",
       "      <td>left</td>\n",
       "      <td>8</td>\n",
       "      <td>NE</td>\n",
       "      <td>KC</td>\n",
       "      <td>NE</td>\n",
       "    </tr>\n",
       "    <tr>\n",
       "      <th>4</th>\n",
       "      <td>20170907000118</td>\n",
       "      <td>away</td>\n",
       "      <td>69.32</td>\n",
       "      <td>35.42</td>\n",
       "      <td>1.82</td>\n",
       "      <td>2.43</td>\n",
       "      <td>0.16</td>\n",
       "      <td>164.31</td>\n",
       "      <td>35</td>\n",
       "      <td>NE</td>\n",
       "      <td>2543773</td>\n",
       "      <td>left</td>\n",
       "      <td>8</td>\n",
       "      <td>NE</td>\n",
       "      <td>KC</td>\n",
       "      <td>NE</td>\n",
       "    </tr>\n",
       "    <tr>\n",
       "      <th>5</th>\n",
       "      <td>20170907000118</td>\n",
       "      <td>away</td>\n",
       "      <td>75.06</td>\n",
       "      <td>24.00</td>\n",
       "      <td>1.01</td>\n",
       "      <td>0.32</td>\n",
       "      <td>0.18</td>\n",
       "      <td>95.01</td>\n",
       "      <td>35</td>\n",
       "      <td>NE</td>\n",
       "      <td>2543773</td>\n",
       "      <td>left</td>\n",
       "      <td>8</td>\n",
       "      <td>NE</td>\n",
       "      <td>KC</td>\n",
       "      <td>NE</td>\n",
       "    </tr>\n",
       "    <tr>\n",
       "      <th>6</th>\n",
       "      <td>20170907000118</td>\n",
       "      <td>away</td>\n",
       "      <td>74.11</td>\n",
       "      <td>16.64</td>\n",
       "      <td>1.11</td>\n",
       "      <td>0.83</td>\n",
       "      <td>0.02</td>\n",
       "      <td>322.59</td>\n",
       "      <td>35</td>\n",
       "      <td>NE</td>\n",
       "      <td>2543773</td>\n",
       "      <td>left</td>\n",
       "      <td>8</td>\n",
       "      <td>NE</td>\n",
       "      <td>KC</td>\n",
       "      <td>NE</td>\n",
       "    </tr>\n",
       "    <tr>\n",
       "      <th>7</th>\n",
       "      <td>20170907000118</td>\n",
       "      <td>away</td>\n",
       "      <td>73.37</td>\n",
       "      <td>18.73</td>\n",
       "      <td>1.24</td>\n",
       "      <td>0.74</td>\n",
       "      <td>0.13</td>\n",
       "      <td>270.04</td>\n",
       "      <td>35</td>\n",
       "      <td>NE</td>\n",
       "      <td>2543773</td>\n",
       "      <td>left</td>\n",
       "      <td>8</td>\n",
       "      <td>NE</td>\n",
       "      <td>KC</td>\n",
       "      <td>NE</td>\n",
       "    </tr>\n",
       "    <tr>\n",
       "      <th>8</th>\n",
       "      <td>20170907000118</td>\n",
       "      <td>away</td>\n",
       "      <td>56.63</td>\n",
       "      <td>26.90</td>\n",
       "      <td>0.26</td>\n",
       "      <td>1.86</td>\n",
       "      <td>0.28</td>\n",
       "      <td>55.31</td>\n",
       "      <td>35</td>\n",
       "      <td>NE</td>\n",
       "      <td>2543773</td>\n",
       "      <td>left</td>\n",
       "      <td>8</td>\n",
       "      <td>NE</td>\n",
       "      <td>KC</td>\n",
       "      <td>NE</td>\n",
       "    </tr>\n",
       "    <tr>\n",
       "      <th>9</th>\n",
       "      <td>20170907000118</td>\n",
       "      <td>away</td>\n",
       "      <td>73.35</td>\n",
       "      <td>38.83</td>\n",
       "      <td>4.55</td>\n",
       "      <td>0.76</td>\n",
       "      <td>0.51</td>\n",
       "      <td>190.84</td>\n",
       "      <td>35</td>\n",
       "      <td>NE</td>\n",
       "      <td>2543773</td>\n",
       "      <td>left</td>\n",
       "      <td>8</td>\n",
       "      <td>NE</td>\n",
       "      <td>KC</td>\n",
       "      <td>NE</td>\n",
       "    </tr>\n",
       "    <tr>\n",
       "      <th>10</th>\n",
       "      <td>20170907000118</td>\n",
       "      <td>away</td>\n",
       "      <td>74.15</td>\n",
       "      <td>28.90</td>\n",
       "      <td>0.72</td>\n",
       "      <td>0.73</td>\n",
       "      <td>0.01</td>\n",
       "      <td>274.14</td>\n",
       "      <td>35</td>\n",
       "      <td>NE</td>\n",
       "      <td>2543773</td>\n",
       "      <td>left</td>\n",
       "      <td>8</td>\n",
       "      <td>NE</td>\n",
       "      <td>KC</td>\n",
       "      <td>NE</td>\n",
       "    </tr>\n",
       "    <tr>\n",
       "      <th>11</th>\n",
       "      <td>20170907000118</td>\n",
       "      <td>home</td>\n",
       "      <td>75.82</td>\n",
       "      <td>17.56</td>\n",
       "      <td>2.30</td>\n",
       "      <td>1.39</td>\n",
       "      <td>0.55</td>\n",
       "      <td>284.15</td>\n",
       "      <td>35</td>\n",
       "      <td>NE</td>\n",
       "      <td>2543773</td>\n",
       "      <td>left</td>\n",
       "      <td>8</td>\n",
       "      <td>NE</td>\n",
       "      <td>KC</td>\n",
       "      <td>NE</td>\n",
       "    </tr>\n",
       "    <tr>\n",
       "      <th>12</th>\n",
       "      <td>20170907000118</td>\n",
       "      <td>home</td>\n",
       "      <td>74.78</td>\n",
       "      <td>33.21</td>\n",
       "      <td>1.71</td>\n",
       "      <td>0.82</td>\n",
       "      <td>0.19</td>\n",
       "      <td>215.90</td>\n",
       "      <td>35</td>\n",
       "      <td>NE</td>\n",
       "      <td>2543773</td>\n",
       "      <td>left</td>\n",
       "      <td>8</td>\n",
       "      <td>NE</td>\n",
       "      <td>KC</td>\n",
       "      <td>NE</td>\n",
       "    </tr>\n",
       "    <tr>\n",
       "      <th>13</th>\n",
       "      <td>20170907000118</td>\n",
       "      <td>home</td>\n",
       "      <td>75.43</td>\n",
       "      <td>32.41</td>\n",
       "      <td>1.50</td>\n",
       "      <td>1.36</td>\n",
       "      <td>0.32</td>\n",
       "      <td>222.76</td>\n",
       "      <td>35</td>\n",
       "      <td>NE</td>\n",
       "      <td>2543773</td>\n",
       "      <td>left</td>\n",
       "      <td>8</td>\n",
       "      <td>NE</td>\n",
       "      <td>KC</td>\n",
       "      <td>NE</td>\n",
       "    </tr>\n",
       "    <tr>\n",
       "      <th>14</th>\n",
       "      <td>20170907000118</td>\n",
       "      <td>home</td>\n",
       "      <td>75.90</td>\n",
       "      <td>25.12</td>\n",
       "      <td>1.38</td>\n",
       "      <td>0.80</td>\n",
       "      <td>0.19</td>\n",
       "      <td>198.55</td>\n",
       "      <td>35</td>\n",
       "      <td>NE</td>\n",
       "      <td>2543773</td>\n",
       "      <td>left</td>\n",
       "      <td>8</td>\n",
       "      <td>NE</td>\n",
       "      <td>KC</td>\n",
       "      <td>NE</td>\n",
       "    </tr>\n",
       "    <tr>\n",
       "      <th>15</th>\n",
       "      <td>20170907000118</td>\n",
       "      <td>home</td>\n",
       "      <td>79.76</td>\n",
       "      <td>29.49</td>\n",
       "      <td>0.84</td>\n",
       "      <td>1.22</td>\n",
       "      <td>0.00</td>\n",
       "      <td>110.86</td>\n",
       "      <td>35</td>\n",
       "      <td>NE</td>\n",
       "      <td>2543773</td>\n",
       "      <td>left</td>\n",
       "      <td>8</td>\n",
       "      <td>NE</td>\n",
       "      <td>KC</td>\n",
       "      <td>NE</td>\n",
       "    </tr>\n",
       "    <tr>\n",
       "      <th>16</th>\n",
       "      <td>20170907000118</td>\n",
       "      <td>home</td>\n",
       "      <td>76.47</td>\n",
       "      <td>36.91</td>\n",
       "      <td>5.15</td>\n",
       "      <td>0.77</td>\n",
       "      <td>0.59</td>\n",
       "      <td>195.09</td>\n",
       "      <td>35</td>\n",
       "      <td>NE</td>\n",
       "      <td>2543773</td>\n",
       "      <td>left</td>\n",
       "      <td>8</td>\n",
       "      <td>NE</td>\n",
       "      <td>KC</td>\n",
       "      <td>NE</td>\n",
       "    </tr>\n",
       "    <tr>\n",
       "      <th>17</th>\n",
       "      <td>20170907000118</td>\n",
       "      <td>home</td>\n",
       "      <td>74.70</td>\n",
       "      <td>19.19</td>\n",
       "      <td>2.10</td>\n",
       "      <td>1.48</td>\n",
       "      <td>0.51</td>\n",
       "      <td>278.52</td>\n",
       "      <td>35</td>\n",
       "      <td>NE</td>\n",
       "      <td>2543773</td>\n",
       "      <td>left</td>\n",
       "      <td>8</td>\n",
       "      <td>NE</td>\n",
       "      <td>KC</td>\n",
       "      <td>NE</td>\n",
       "    </tr>\n",
       "    <tr>\n",
       "      <th>18</th>\n",
       "      <td>20170907000118</td>\n",
       "      <td>home</td>\n",
       "      <td>78.75</td>\n",
       "      <td>30.53</td>\n",
       "      <td>3.63</td>\n",
       "      <td>3.35</td>\n",
       "      <td>0.38</td>\n",
       "      <td>245.74</td>\n",
       "      <td>35</td>\n",
       "      <td>NE</td>\n",
       "      <td>2543773</td>\n",
       "      <td>left</td>\n",
       "      <td>8</td>\n",
       "      <td>NE</td>\n",
       "      <td>KC</td>\n",
       "      <td>NE</td>\n",
       "    </tr>\n",
       "    <tr>\n",
       "      <th>19</th>\n",
       "      <td>20170907000118</td>\n",
       "      <td>home</td>\n",
       "      <td>74.60</td>\n",
       "      <td>31.88</td>\n",
       "      <td>1.86</td>\n",
       "      <td>1.51</td>\n",
       "      <td>0.17</td>\n",
       "      <td>267.32</td>\n",
       "      <td>35</td>\n",
       "      <td>NE</td>\n",
       "      <td>2543773</td>\n",
       "      <td>left</td>\n",
       "      <td>8</td>\n",
       "      <td>NE</td>\n",
       "      <td>KC</td>\n",
       "      <td>NE</td>\n",
       "    </tr>\n",
       "    <tr>\n",
       "      <th>20</th>\n",
       "      <td>20170907000118</td>\n",
       "      <td>home</td>\n",
       "      <td>74.58</td>\n",
       "      <td>29.12</td>\n",
       "      <td>1.00</td>\n",
       "      <td>0.69</td>\n",
       "      <td>0.22</td>\n",
       "      <td>242.05</td>\n",
       "      <td>35</td>\n",
       "      <td>NE</td>\n",
       "      <td>2543773</td>\n",
       "      <td>left</td>\n",
       "      <td>8</td>\n",
       "      <td>NE</td>\n",
       "      <td>KC</td>\n",
       "      <td>NE</td>\n",
       "    </tr>\n",
       "    <tr>\n",
       "      <th>21</th>\n",
       "      <td>20170907000118</td>\n",
       "      <td>home</td>\n",
       "      <td>74.58</td>\n",
       "      <td>28.47</td>\n",
       "      <td>1.70</td>\n",
       "      <td>1.55</td>\n",
       "      <td>0.24</td>\n",
       "      <td>255.67</td>\n",
       "      <td>35</td>\n",
       "      <td>NE</td>\n",
       "      <td>2543773</td>\n",
       "      <td>left</td>\n",
       "      <td>8</td>\n",
       "      <td>NE</td>\n",
       "      <td>KC</td>\n",
       "      <td>NE</td>\n",
       "    </tr>\n",
       "  </tbody>\n",
       "</table>\n",
       "</div>"
      ],
      "text/plain": [
       "            PlayId  Team      X      Y     S     A   Dis     Dir  YardLine  \\\n",
       "0   20170907000118  away  73.91  34.84  1.69  1.13  0.40  177.18        35   \n",
       "1   20170907000118  away  74.67  32.64  0.42  1.35  0.01  198.70        35   \n",
       "2   20170907000118  away  74.00  33.20  1.22  0.59  0.31  202.73        35   \n",
       "3   20170907000118  away  71.46  27.70  0.42  0.54  0.02  105.64        35   \n",
       "4   20170907000118  away  69.32  35.42  1.82  2.43  0.16  164.31        35   \n",
       "5   20170907000118  away  75.06  24.00  1.01  0.32  0.18   95.01        35   \n",
       "6   20170907000118  away  74.11  16.64  1.11  0.83  0.02  322.59        35   \n",
       "7   20170907000118  away  73.37  18.73  1.24  0.74  0.13  270.04        35   \n",
       "8   20170907000118  away  56.63  26.90  0.26  1.86  0.28   55.31        35   \n",
       "9   20170907000118  away  73.35  38.83  4.55  0.76  0.51  190.84        35   \n",
       "10  20170907000118  away  74.15  28.90  0.72  0.73  0.01  274.14        35   \n",
       "11  20170907000118  home  75.82  17.56  2.30  1.39  0.55  284.15        35   \n",
       "12  20170907000118  home  74.78  33.21  1.71  0.82  0.19  215.90        35   \n",
       "13  20170907000118  home  75.43  32.41  1.50  1.36  0.32  222.76        35   \n",
       "14  20170907000118  home  75.90  25.12  1.38  0.80  0.19  198.55        35   \n",
       "15  20170907000118  home  79.76  29.49  0.84  1.22  0.00  110.86        35   \n",
       "16  20170907000118  home  76.47  36.91  5.15  0.77  0.59  195.09        35   \n",
       "17  20170907000118  home  74.70  19.19  2.10  1.48  0.51  278.52        35   \n",
       "18  20170907000118  home  78.75  30.53  3.63  3.35  0.38  245.74        35   \n",
       "19  20170907000118  home  74.60  31.88  1.86  1.51  0.17  267.32        35   \n",
       "20  20170907000118  home  74.58  29.12  1.00  0.69  0.22  242.05        35   \n",
       "21  20170907000118  home  74.58  28.47  1.70  1.55  0.24  255.67        35   \n",
       "\n",
       "   PossessionTeam  NflIdRusher PlayDirection  Yards HomeTeamAbbr  \\\n",
       "0              NE      2543773          left      8           NE   \n",
       "1              NE      2543773          left      8           NE   \n",
       "2              NE      2543773          left      8           NE   \n",
       "3              NE      2543773          left      8           NE   \n",
       "4              NE      2543773          left      8           NE   \n",
       "5              NE      2543773          left      8           NE   \n",
       "6              NE      2543773          left      8           NE   \n",
       "7              NE      2543773          left      8           NE   \n",
       "8              NE      2543773          left      8           NE   \n",
       "9              NE      2543773          left      8           NE   \n",
       "10             NE      2543773          left      8           NE   \n",
       "11             NE      2543773          left      8           NE   \n",
       "12             NE      2543773          left      8           NE   \n",
       "13             NE      2543773          left      8           NE   \n",
       "14             NE      2543773          left      8           NE   \n",
       "15             NE      2543773          left      8           NE   \n",
       "16             NE      2543773          left      8           NE   \n",
       "17             NE      2543773          left      8           NE   \n",
       "18             NE      2543773          left      8           NE   \n",
       "19             NE      2543773          left      8           NE   \n",
       "20             NE      2543773          left      8           NE   \n",
       "21             NE      2543773          left      8           NE   \n",
       "\n",
       "   VisitorTeamAbbr FieldPosition  \n",
       "0               KC            NE  \n",
       "1               KC            NE  \n",
       "2               KC            NE  \n",
       "3               KC            NE  \n",
       "4               KC            NE  \n",
       "5               KC            NE  \n",
       "6               KC            NE  \n",
       "7               KC            NE  \n",
       "8               KC            NE  \n",
       "9               KC            NE  \n",
       "10              KC            NE  \n",
       "11              KC            NE  \n",
       "12              KC            NE  \n",
       "13              KC            NE  \n",
       "14              KC            NE  \n",
       "15              KC            NE  \n",
       "16              KC            NE  \n",
       "17              KC            NE  \n",
       "18              KC            NE  \n",
       "19              KC            NE  \n",
       "20              KC            NE  \n",
       "21              KC            NE  "
      ]
     },
     "execution_count": 12,
     "metadata": {
      "tags": []
     },
     "output_type": "execute_result"
    }
   ],
   "source": [
    "play_id = 20170907000118\n",
    "train[cols].query('PlayId == @play_id')"
   ]
  },
  {
   "cell_type": "markdown",
   "metadata": {
    "id": "OObF1J9vRhMZ"
   },
   "source": [
    "# Data processing"
   ]
  },
  {
   "cell_type": "markdown",
   "metadata": {
    "id": "HUwzuZfsRhMa"
   },
   "source": [
    "- As we assume most people did, we adjusted the data to always be from left to right. Additionally, for training we clip the target to -30 and 50. For X,Y and Dir there is no other adjustment necessary, however, as most have noted, there are some issues with S and A. Apparently, the time frames were slightly different between different plays.\n",
    "\n",
    "- For S, the best adjustment we found is to simply replace it with Dis * 10. A is a bit more tricky as there is apparently some form of leak in 2017 data (check the correlation between rusher A and target). So what we did is to adjust A by multiplying it with (Dis / S) / 0.1. That means we scale it similarly to how we scale S. After all, A only has a tiny signal after this adjustment, and one can easily drop it. As we rely on relative features in the model, we don’t apply any other standardization."
   ]
  },
  {
   "cell_type": "markdown",
   "metadata": {
    "id": "YaXDb7jFRhMa"
   },
   "source": [
    "#### Some team names are not uniform across the data, let's fix them here"
   ]
  },
  {
   "cell_type": "code",
   "execution_count": null,
   "metadata": {
    "id": "OmigY3QzRhMa"
   },
   "outputs": [],
   "source": [
    "# create a dictionary of abbreviation to fix\n",
    "map_abbr = {'ARI': 'ARZ', 'BAL': 'BLT', 'CLE': 'CLV', 'HOU': 'HST'}\n",
    "\n",
    "# Add remaining abbreviations to the dictionary \n",
    "for abb in train['PossessionTeam'].unique():\n",
    "    map_abbr[abb] = abb\n",
    "\n",
    "# Fix abbreviations values    \n",
    "train['PossessionTeam'] = train['PossessionTeam'].map(map_abbr)\n",
    "train['HomeTeamAbbr'] = train['HomeTeamAbbr'].map(map_abbr)"
   ]
  },
  {
   "cell_type": "markdown",
   "metadata": {
    "id": "gzNGcPc4RhMb"
   },
   "source": [
    "#### Create a binary variable indicating whether a player is the ball carrier"
   ]
  },
  {
   "cell_type": "code",
   "execution_count": null,
   "metadata": {
    "id": "euT2FNmnRhMb"
   },
   "outputs": [],
   "source": [
    "train['IsRusher'] = (train.NflId == train.NflIdRusher)"
   ]
  },
  {
   "cell_type": "markdown",
   "metadata": {
    "id": "PFuIijpPRhMb"
   },
   "source": [
    "#### Transform the data so that the offensive team always moves in the same direction (left to right)"
   ]
  },
  {
   "cell_type": "markdown",
   "metadata": {
    "id": "dPVtrJIpRhMb"
   },
   "source": [
    "In a football game teams switch sides every quarter, the dataset provides a feature 'PlayDirection' that indicates whether a play is moving left to right or right to left.\n",
    "\n",
    "We need to transform the data so that the offensive team always moves in the same direction (left to right) so that the input features are more consistent for training."
   ]
  },
  {
   "cell_type": "code",
   "execution_count": null,
   "metadata": {
    "id": "6NC7_Hf_RhMc"
   },
   "outputs": [],
   "source": [
    "# Create a binary variable for plays moving left to right (ToLeft)\n",
    "train['ToLeft'] = (train.PlayDirection == \"left\")"
   ]
  },
  {
   "cell_type": "code",
   "execution_count": null,
   "metadata": {
    "id": "GfqXQlKWRhMc"
   },
   "outputs": [],
   "source": [
    "# Create a variable indicating which team is the offensive team (home vs away)\n",
    "\n",
    "# Initialize TeamOnOffense to \"home\"\n",
    "train['TeamOnOffense'] = \"home\" \n",
    "\n",
    "# Set TeamOnOffense to \"away\" when PossessionTeam is not equal to HomeTeamAbbr\n",
    "train.loc[train.PossessionTeam != train.HomeTeamAbbr, 'TeamOnOffense'] = \"away\"\n",
    "\n",
    "# Create an indicator variable\n",
    "train['IsOnOffense'] = (train.Team == train.TeamOnOffense)"
   ]
  },
  {
   "cell_type": "code",
   "execution_count": null,
   "metadata": {
    "id": "Mp7jeJexRhMc"
   },
   "outputs": [],
   "source": [
    "# On the graph we can see that X is almost symmetrical distribution with a mean around 60. \n",
    "# This symmetry is due to the fact that X depends on PlayDirection and PlayDirection takes on two values, either right or left."
   ]
  },
  {
   "cell_type": "code",
   "execution_count": null,
   "metadata": {
    "colab": {
     "base_uri": "https://localhost:8080/",
     "height": 386
    },
    "id": "Xa7O5W9rRhMc",
    "outputId": "c915d95f-38f2-44e7-d573-78ffd2872ed6"
   },
   "outputs": [
    {
     "data": {
      "text/plain": [
       "<seaborn.axisgrid.FacetGrid at 0x7f4e35752650>"
      ]
     },
     "execution_count": 18,
     "metadata": {
      "tags": []
     },
     "output_type": "execute_result"
    },
    {
     "data": {
      "image/png": "[encoded data removed]",
      "text/plain": [
       "<Figure size 720x360 with 2 Axes>"
      ]
     },
     "metadata": {
      "needs_background": "light",
      "tags": []
     },
     "output_type": "display_data"
    }
   ],
   "source": [
    "g = sns.FacetGrid(data=train, col='PlayDirection', height=5, aspect=1)\n",
    "g.map(sns.distplot, 'X')"
   ]
  },
  {
   "cell_type": "code",
   "execution_count": null,
   "metadata": {
    "id": "jd4mVssQRhMc"
   },
   "outputs": [],
   "source": [
    "# Let's convert X so that the offensive team always left to right"
   ]
  },
  {
   "cell_type": "code",
   "execution_count": null,
   "metadata": {
    "id": "TxEb6AiqRhMd"
   },
   "outputs": [],
   "source": [
    "train.loc[train.PlayDirection=='left', 'X'] = 120 - train.loc[train.PlayDirection=='left', 'X']"
   ]
  },
  {
   "cell_type": "code",
   "execution_count": null,
   "metadata": {
    "colab": {
     "base_uri": "https://localhost:8080/",
     "height": 386
    },
    "id": "fJ1n1M-NRhMd",
    "outputId": "93aa4f2f-acc9-444a-b52d-eb9f3bc888bb"
   },
   "outputs": [
    {
     "data": {
      "text/plain": [
       "<seaborn.axisgrid.FacetGrid at 0x7f4e2cd65650>"
      ]
     },
     "execution_count": 21,
     "metadata": {
      "tags": []
     },
     "output_type": "execute_result"
    },
    {
     "data": {
      "image/png": "[encoded data removed]",
      "text/plain": [
       "<Figure size 720x360 with 2 Axes>"
      ]
     },
     "metadata": {
      "needs_background": "light",
      "tags": []
     },
     "output_type": "display_data"
    }
   ],
   "source": [
    "# Let's check the graph again\n",
    "g = sns.FacetGrid(data=train, col='PlayDirection', height=5, aspect=1)\n",
    "g.map(sns.distplot, 'X')"
   ]
  },
  {
   "cell_type": "markdown",
   "metadata": {
    "id": "E1wOPRjpRhMd"
   },
   "source": [
    "After the conversion, X is consistent whether PlayDirection is left or right. Therefore, the offensive team is moving left to right all the time."
   ]
  },
  {
   "cell_type": "markdown",
   "metadata": {
    "id": "Wi7yS7GzRhMd"
   },
   "source": [
    "### Make YardLine consistent when PossesssionTeam is different from FieldPosition"
   ]
  },
  {
   "cell_type": "code",
   "execution_count": null,
   "metadata": {
    "id": "r4TAwY9bRhMe"
   },
   "outputs": [],
   "source": [
    "train['IsPosTeamInFieldPos'] = (train['PossessionTeam'] == train['FieldPosition'])"
   ]
  },
  {
   "cell_type": "code",
   "execution_count": null,
   "metadata": {
    "colab": {
     "base_uri": "https://localhost:8080/",
     "height": 386
    },
    "id": "hsn518V3RhMe",
    "outputId": "5379f4f0-58df-48ee-dbbc-ca73c8fe7cc3"
   },
   "outputs": [
    {
     "data": {
      "text/plain": [
       "<seaborn.axisgrid.FacetGrid at 0x7f4e2c77e890>"
      ]
     },
     "execution_count": 23,
     "metadata": {
      "tags": []
     },
     "output_type": "execute_result"
    },
    {
     "data": {
      "image/png": "[encoded data removed]",
      "text/plain": [
       "<Figure size 720x360 with 2 Axes>"
      ]
     },
     "metadata": {
      "needs_background": "light",
      "tags": []
     },
     "output_type": "display_data"
    }
   ],
   "source": [
    "# Let's check the graph again\n",
    "mask = (train['IsRusher']==True)\n",
    "g = sns.FacetGrid(data=train[mask], col='IsPosTeamInFieldPos', height=5, aspect=1)\n",
    "g.map(sns.distplot, 'YardLine')"
   ]
  },
  {
   "cell_type": "markdown",
   "metadata": {
    "id": "8kL4VB_lRhMe"
   },
   "source": [
    "When the play is happening in the defensive team side of the field, the line of scrimmage 'YardLine' should be larger than 50 yards.\n",
    "We can see from the graph on the right that we need to subtract 'YardLine' from 100 to make the conversion."
   ]
  },
  {
   "cell_type": "code",
   "execution_count": null,
   "metadata": {
    "id": "J4qRVB3iRhMe"
   },
   "outputs": [],
   "source": [
    "# Convert YardLine\n",
    "mask = (train['PossessionTeam'] != train['FieldPosition'])\n",
    "train.loc[mask, 'YardLine'] = 100 - train.loc[mask, 'YardLine']"
   ]
  },
  {
   "cell_type": "code",
   "execution_count": null,
   "metadata": {
    "colab": {
     "base_uri": "https://localhost:8080/",
     "height": 386
    },
    "id": "XJbaSWmDRhMe",
    "outputId": "a066c15d-b799-4e80-fe87-91c96d624a41"
   },
   "outputs": [
    {
     "data": {
      "text/plain": [
       "<seaborn.axisgrid.FacetGrid at 0x7f4e2c275a90>"
      ]
     },
     "execution_count": 25,
     "metadata": {
      "tags": []
     },
     "output_type": "execute_result"
    },
    {
     "data": {
      "image/png": "[encoded data removed]",
      "text/plain": [
       "<Figure size 720x360 with 2 Axes>"
      ]
     },
     "metadata": {
      "needs_background": "light",
      "tags": []
     },
     "output_type": "display_data"
    }
   ],
   "source": [
    "# Let's check the graph again\n",
    "mask = (train['IsRusher']==True)\n",
    "g = sns.FacetGrid(data=train[mask], col='IsPosTeamInFieldPos', height=5, aspect=1)\n",
    "g.map(sns.distplot, 'YardLine')"
   ]
  },
  {
   "cell_type": "markdown",
   "metadata": {
    "id": "MQ3W7vyaRhMf"
   },
   "source": [
    "Ok, YardLine looks good after the conversion; it ranges from 0 to 50 when PossessionTeam is in its side of the field and from 50 to 100 when PossessionTeam is in its opponent side."
   ]
  },
  {
   "cell_type": "markdown",
   "metadata": {
    "id": "O0psFQ_qRhMf"
   },
   "source": [
    "# Plot the football field to visualize the offensive/defensive teams as well as the line of scrimmage [3]."
   ]
  },
  {
   "cell_type": "code",
   "execution_count": null,
   "metadata": {
    "id": "GtbGmw3rRhMf"
   },
   "outputs": [],
   "source": [
    "def create_football_field(linenumbers=True,\n",
    "                          endzones=True,\n",
    "                          highlight_line=False,\n",
    "                          highlight_line_number=50,\n",
    "                          highlighted_name='Line of Scrimmage',\n",
    "                          fifty_is_los=False,\n",
    "                          figsize=(12, 6.33)):\n",
    "    \"\"\"\n",
    "    Function that plots the football field for viewing plays.\n",
    "    Allows for showing or hiding endzones.\n",
    "    \"\"\"\n",
    "    rect = patches.Rectangle((0, 0), 120, 53.3, linewidth=0.1,\n",
    "                             edgecolor='r', facecolor='darkgreen', zorder=0)\n",
    "\n",
    "    fig, ax = plt.subplots(1, figsize=figsize)\n",
    "    ax.add_patch(rect)\n",
    "\n",
    "    plt.plot([10, 10, 10, 20, 20, 30, 30, 40, 40, 50, 50, 60, 60, 70, 70, 80,\n",
    "              80, 90, 90, 100, 100, 110, 110, 120, 0, 0, 120, 120],\n",
    "             [0, 0, 53.3, 53.3, 0, 0, 53.3, 53.3, 0, 0, 53.3, 53.3, 0, 0, 53.3,\n",
    "              53.3, 0, 0, 53.3, 53.3, 0, 0, 53.3, 53.3, 53.3, 0, 0, 53.3],\n",
    "             color='white')\n",
    "    if fifty_is_los:\n",
    "        plt.plot([60, 60], [0, 53.3], color='gold')\n",
    "        plt.text(62, 50, '<- Player Yardline at Snap', color='gold')\n",
    "    # Endzones\n",
    "    if endzones:\n",
    "        ez1 = patches.Rectangle((0, 0), 10, 53.3,\n",
    "                                linewidth=0.1,\n",
    "                                edgecolor='r',\n",
    "                                facecolor='blue',\n",
    "                                alpha=0.2,\n",
    "                                zorder=0)\n",
    "        ez2 = patches.Rectangle((110, 0), 120, 53.3,\n",
    "                                linewidth=0.1,\n",
    "                                edgecolor='r',\n",
    "                                facecolor='blue',\n",
    "                                alpha=0.2,\n",
    "                                zorder=0)\n",
    "        ax.add_patch(ez1)\n",
    "        ax.add_patch(ez2)\n",
    "    plt.xlim(0, 120)\n",
    "    plt.ylim(-5, 58.3)\n",
    "    plt.axis('off')\n",
    "    if linenumbers:\n",
    "        for x in range(20, 110, 10):\n",
    "            numb = x\n",
    "            if x > 50:\n",
    "                numb = 120 - x\n",
    "            plt.text(x, 5, str(numb - 10),\n",
    "                     horizontalalignment='center',\n",
    "                     fontsize=20,  # fontname='Arial',\n",
    "                     color='white')\n",
    "            plt.text(x - 0.95, 53.3 - 5, str(numb - 10),\n",
    "                     horizontalalignment='center',\n",
    "                     fontsize=20,  # fontname='Arial',\n",
    "                     color='white', rotation=180)\n",
    "    if endzones:\n",
    "        hash_range = range(11, 110)\n",
    "    else:\n",
    "        hash_range = range(1, 120)\n",
    "\n",
    "    for x in hash_range:\n",
    "        ax.plot([x, x], [0.4, 0.7], color='white')\n",
    "        ax.plot([x, x], [53.0, 52.5], color='white')\n",
    "        ax.plot([x, x], [22.91, 23.57], color='white')\n",
    "        ax.plot([x, x], [29.73, 30.39], color='white')\n",
    "\n",
    "    if highlight_line:\n",
    "        hl = highlight_line_number + 10\n",
    "        plt.plot([hl, hl], [0, 53.3], color='yellow')\n",
    "        plt.text(hl + 2, 50, '<- {}'.format(highlighted_name),\n",
    "                 color='yellow')\n",
    "    return fig, ax"
   ]
  },
  {
   "cell_type": "code",
   "execution_count": null,
   "metadata": {
    "colab": {
     "base_uri": "https://localhost:8080/",
     "height": 408
    },
    "id": "B9gALRQORhMj",
    "outputId": "2713bd6e-889b-482f-e05f-84e3d3153dd2"
   },
   "outputs": [
    {
     "name": "stderr",
     "output_type": "stream",
     "text": [
      "No handles with labels found to put in legend.\n"
     ]
    },
    {
     "data": {
      "image/png": "[encoded data removed]",
      "text/plain": [
       "<Figure size 864x455.76 with 1 Axes>"
      ]
     },
     "metadata": {
      "needs_background": "light",
      "tags": []
     },
     "output_type": "display_data"
    }
   ],
   "source": [
    "playid = 20181230154157\n",
    "#20170907000345\n",
    "#20181230154157\n",
    "\n",
    "yl = train.query(\"PlayId == @playid\")['YardLine'].tolist()[0]\n",
    "fig, ax = create_football_field(highlight_line=True, highlight_line_number=yl)\n",
    "train.query(\"PlayId == @playid and Team == 'away'\").plot(x='X', y='Y', kind='scatter', ax=ax, color='orange', s=30, legend='Away')\n",
    "train.query(\"PlayId == @playid and Team == 'home'\").plot(x='X', y='Y', kind='scatter', ax=ax, color='blue', s=30, legend='Home')\n",
    "plt.title(f'Play # {playid}')\n",
    "plt.legend()\n",
    "plt.show()"
   ]
  },
  {
   "cell_type": "markdown",
   "metadata": {
    "id": "nG2zx9iwRhMn"
   },
   "source": [
    "### The target variable is provided by the feature 'Yards'. Let's look at its distribution."
   ]
  },
  {
   "cell_type": "code",
   "execution_count": null,
   "metadata": {
    "id": "lVy1i-KuRhMn"
   },
   "outputs": [],
   "source": [
    "# The target to predict is 'Yards' feature for the rusher.\n",
    "target = train.loc[train.IsRusher==True, 'Yards']"
   ]
  },
  {
   "cell_type": "code",
   "execution_count": null,
   "metadata": {
    "colab": {
     "base_uri": "https://localhost:8080/",
     "height": 405
    },
    "id": "G5wIH_LTRhMn",
    "outputId": "a086ceef-57ca-4c33-b8a7-536b5ea999ce"
   },
   "outputs": [
    {
     "data": {
      "text/plain": [
       "<matplotlib.axes._subplots.AxesSubplot at 0x7f4e2bf28310>"
      ]
     },
     "execution_count": 29,
     "metadata": {
      "tags": []
     },
     "output_type": "execute_result"
    },
    {
     "data": {
      "image/png": "[encoded data removed]",
      "text/plain": [
       "<Figure size 432x432 with 1 Axes>"
      ]
     },
     "metadata": {
      "needs_background": "light",
      "tags": []
     },
     "output_type": "display_data"
    }
   ],
   "source": [
    "# Let's plot the distribution of the target variable\n",
    "fig, ax = plt.subplots(figsize=(6,6))\n",
    "sns.distplot(target)"
   ]
  },
  {
   "cell_type": "code",
   "execution_count": null,
   "metadata": {
    "colab": {
     "base_uri": "https://localhost:8080/"
    },
    "id": "y-gTEQL0RhMo",
    "outputId": "3ef7fa13-c563-45ba-b4c3-44b707994939"
   },
   "outputs": [
    {
     "data": {
      "text/plain": [
       "count    31007.000000\n",
       "mean         4.227626\n",
       "std          6.449966\n",
       "min        -15.000000\n",
       "25%          1.000000\n",
       "50%          3.000000\n",
       "75%          6.000000\n",
       "max         99.000000\n",
       "Name: Yards, dtype: float64"
      ]
     },
     "execution_count": 30,
     "metadata": {
      "tags": []
     },
     "output_type": "execute_result"
    }
   ],
   "source": [
    "target.describe()"
   ]
  },
  {
   "cell_type": "code",
   "execution_count": null,
   "metadata": {
    "colab": {
     "base_uri": "https://localhost:8080/",
     "height": 296
    },
    "id": "ZidcLeCvRhMo",
    "outputId": "c147761f-adf1-41b9-ec7b-21442afb4398"
   },
   "outputs": [
    {
     "data": {
      "text/plain": [
       "<matplotlib.axes._subplots.AxesSubplot at 0x7f4e2bd86490>"
      ]
     },
     "execution_count": 31,
     "metadata": {
      "tags": []
     },
     "output_type": "execute_result"
    },
    {
     "data": {
      "image/png": "[encoded data removed]",
      "text/plain": [
       "<Figure size 432x288 with 1 Axes>"
      ]
     },
     "metadata": {
      "needs_background": "light",
      "tags": []
     },
     "output_type": "display_data"
    }
   ],
   "source": [
    "sns.boxplot(target)"
   ]
  },
  {
   "cell_type": "code",
   "execution_count": null,
   "metadata": {
    "colab": {
     "base_uri": "https://localhost:8080/"
    },
    "id": "4Eta49o1RhMp",
    "outputId": "adef8d78-5b27-43b2-cef7-a154c1aa6ae9"
   },
   "outputs": [
    {
     "name": "stdout",
     "output_type": "stream",
     "text": [
      "% of target value between -15 and -10: 0.05 %\n",
      "% of target value between -10 and -5: 0.9 %\n",
      "% of target value between -5 and 0: 19.59 %\n",
      "% of target value between 0 and 5: 63.6 %\n",
      "% of target value between 5 and 10: 23.96 %\n",
      "% of target value between 10 and 20: 8.51 %\n",
      "% of target value between 20 and 30: 1.68 %\n",
      "% of target value between 30 and 40: 0.45 %\n",
      "% of target value between 40 and 50: 0.2 %\n",
      "% of target value between 50 and 60: 0.16 %\n",
      "% of target value between 60 and 70: 0.09 %\n",
      "% of target value between 70 and 80: 0.05 %\n",
      "% of target value between 80 and 90: 0.02 %\n",
      "% of target value between 90 and 100: 0.02 %\n"
     ]
    }
   ],
   "source": [
    "# Print the percentage of values for different ranges of the target variable\n",
    "intrvl = [-10, -5, 0, 5, 10,20,30,40,50,60,70,80,90, 100]\n",
    "i=-15\n",
    "total = target.shape[0]\n",
    "for j in intrvl:\n",
    "    pct = round(target.loc[target.between(i,j)].shape[0] / total * 100, 2)\n",
    "    print(f\"% of target value between {i} and {j}: {pct} %\")\n",
    "    i = j"
   ]
  },
  {
   "cell_type": "code",
   "execution_count": null,
   "metadata": {
    "id": "Z94tDOoBRhMp"
   },
   "outputs": [],
   "source": [
    "# It seems unlikely that the rusher will run more than 50 yards so we'll set the target variable to a maximum of 50\n",
    "train.loc[train.Yards > 50 ,'Yards'] = 50"
   ]
  },
  {
   "cell_type": "markdown",
   "metadata": {
    "id": "QMU57bRKRhMp"
   },
   "source": [
    "### Converting Speed 'S' using the distance 'Dis'"
   ]
  },
  {
   "cell_type": "code",
   "execution_count": null,
   "metadata": {
    "colab": {
     "base_uri": "https://localhost:8080/",
     "height": 282
    },
    "id": "GiMsjmkWRhMq",
    "outputId": "0a79cbf9-2dc9-4a01-8b07-204e2ee1898b"
   },
   "outputs": [
    {
     "data": {
      "text/plain": [
       "<matplotlib.collections.PathCollection at 0x7f4e2bca1550>"
      ]
     },
     "execution_count": 34,
     "metadata": {
      "tags": []
     },
     "output_type": "execute_result"
    },
    {
     "data": {
      "image/png": "[encoded data removed]",
      "text/plain": [
       "<Figure size 432x288 with 1 Axes>"
      ]
     },
     "metadata": {
      "needs_background": "light",
      "tags": []
     },
     "output_type": "display_data"
    }
   ],
   "source": [
    "# Converting Speed 'S' using the Distance column; distance is defined as yards traveled in 0.1 second\n",
    "# For some reason, S is slightly off for 2017 data compared to 2018\n",
    "mask = (train['Season']==2017)\n",
    "plt.scatter(train['S'][mask].values, train['Dis'][mask].values)"
   ]
  },
  {
   "cell_type": "code",
   "execution_count": null,
   "metadata": {
    "colab": {
     "base_uri": "https://localhost:8080/",
     "height": 282
    },
    "id": "RLSkTtsYRhMq",
    "outputId": "00c89b53-3902-4bd8-99ed-1deb91a58629"
   },
   "outputs": [
    {
     "data": {
      "text/plain": [
       "<matplotlib.collections.PathCollection at 0x7f4e2bc86e50>"
      ]
     },
     "execution_count": 35,
     "metadata": {
      "tags": []
     },
     "output_type": "execute_result"
    },
    {
     "data": {
      "image/png": "[encoded data removed]",
      "text/plain": [
       "<Figure size 432x288 with 1 Axes>"
      ]
     },
     "metadata": {
      "needs_background": "light",
      "tags": []
     },
     "output_type": "display_data"
    }
   ],
   "source": [
    "mask = (train['Season']==2018)\n",
    "plt.scatter(train['S'][mask].values, train['Dis'][mask].values)"
   ]
  },
  {
   "cell_type": "code",
   "execution_count": null,
   "metadata": {
    "id": "4Qxl9ftRRhMq"
   },
   "outputs": [],
   "source": [
    "# Let's replace S by Dis * 10 as Dis is defined as yards traveled in 0.1 seconds.\n",
    "train['S'] = train['Dis'] * 10"
   ]
  },
  {
   "cell_type": "markdown",
   "metadata": {
    "id": "OrAwDci3RhMq"
   },
   "source": [
    "### Normalize the direction 'Dir' of a player (angle in which a player is moving)"
   ]
  },
  {
   "cell_type": "markdown",
   "metadata": {
    "id": "J2ZNwSfnRhMq"
   },
   "source": [
    "We're going to normalize Dir as follows [2]:\n",
    "\n",
    "* 0 degrees: the offensive player is moving completely to his left\n",
    "* 90 degrees: the offensive player is moving straight ahead, towards opponent end zone\n",
    "* 180 degrees: the offensive player is moving completely to his right\n",
    "* 270 degrees: the offensive player is moving backwards, towards his own team's end zone (this is generally bad)"
   ]
  },
  {
   "cell_type": "markdown",
   "metadata": {
    "id": "IMa_NDAfRhMr"
   },
   "source": [
    "'Dir' provides the angle in which a player is moving, and PlayDirection tells us which direction the play is headed.\n",
    "Let's plot 'Dir' by 'PlayDirection'."
   ]
  },
  {
   "cell_type": "code",
   "execution_count": null,
   "metadata": {
    "id": "EhHYFUbTRhMr"
   },
   "outputs": [],
   "source": [
    "train_rusher = train.loc[train['IsRusher']==True,:]"
   ]
  },
  {
   "cell_type": "code",
   "execution_count": null,
   "metadata": {
    "colab": {
     "base_uri": "https://localhost:8080/",
     "height": 314
    },
    "id": "VD6OrBN6RhMr",
    "outputId": "af58e6c0-bdde-4cf4-b701-848ef229561c"
   },
   "outputs": [
    {
     "data": {
      "text/plain": [
       "<seaborn.axisgrid.FacetGrid at 0x7f4e2bc4b6d0>"
      ]
     },
     "execution_count": 38,
     "metadata": {
      "tags": []
     },
     "output_type": "execute_result"
    },
    {
     "data": {
      "image/png": "[encoded data removed]",
      "text/plain": [
       "<Figure size 576x288 with 2 Axes>"
      ]
     },
     "metadata": {
      "needs_background": "light",
      "tags": []
     },
     "output_type": "display_data"
    }
   ],
   "source": [
    "g = sns.FacetGrid(data=train_rusher, col='PlayDirection', height=4, aspect=1)\n",
    "g.map(sns.distplot, 'Dir')"
   ]
  },
  {
   "cell_type": "markdown",
   "metadata": {
    "id": "9p5EAziQRhMr"
   },
   "source": [
    "On plays to the left, angles are clustered between 180 and 360, with a handful of angles around 0 to 15 degrees. This can be tricky -- 5 degrees should be treated like 365 degrees, even though it doesn't show up that way in the data. Similarly, among players moving to the right PlayDirection == \"right\", there are a handful of player angles around 350 degrees with most players facing between 0 and 180 degrees. \n",
    "\n",
    "Let's make these values more consistent."
   ]
  },
  {
   "cell_type": "code",
   "execution_count": null,
   "metadata": {
    "id": "ihoA1Q1bRhMr"
   },
   "outputs": [],
   "source": [
    "mask = (train['PlayDirection']=='left') & (train['Dir'] < 90)\n",
    "train['Dir_clean'] = train['Dir'].copy(deep=True)\n",
    "train.loc[mask, 'Dir_clean'] = train.loc[mask, 'Dir_clean'] + 360\n",
    "\n",
    "mask = (train['PlayDirection']=='right') & (train['Dir'] > 270)\n",
    "train.loc[mask, 'Dir_clean'] = train.loc[mask, 'Dir_clean'] - 360"
   ]
  },
  {
   "cell_type": "code",
   "execution_count": null,
   "metadata": {
    "colab": {
     "base_uri": "https://localhost:8080/",
     "height": 314
    },
    "id": "_Jf572WGRhMs",
    "outputId": "e63853dd-d425-42e0-d4ba-fa7055bbbf90"
   },
   "outputs": [
    {
     "data": {
      "text/plain": [
       "<seaborn.axisgrid.FacetGrid at 0x7f4e2bd00950>"
      ]
     },
     "execution_count": 40,
     "metadata": {
      "tags": []
     },
     "output_type": "execute_result"
    },
    {
     "data": {
      "image/png": "[encoded data removed]",
      "text/plain": [
       "<Figure size 576x288 with 2 Axes>"
      ]
     },
     "metadata": {
      "needs_background": "light",
      "tags": []
     },
     "output_type": "display_data"
    }
   ],
   "source": [
    "mask = (train['IsRusher']==True)\n",
    "train_rusher = train.loc[mask,:]\n",
    "\n",
    "g = sns.FacetGrid(data=train_rusher, col='PlayDirection', height=4, aspect=1)\n",
    "g.map(sns.distplot, 'Dir_clean')"
   ]
  },
  {
   "cell_type": "markdown",
   "metadata": {
    "id": "EZZAgTFaRhMs"
   },
   "source": [
    "The two charts look more symmetrical now."
   ]
  },
  {
   "cell_type": "markdown",
   "metadata": {
    "id": "UOtcFlgFRhMs"
   },
   "source": [
    "To make 'Dir' consistent regardless of PlayDirection, we need to subtract 180 from 'Dir' when PlayDirection == left. "
   ]
  },
  {
   "cell_type": "code",
   "execution_count": null,
   "metadata": {
    "id": "PdliE3EfRhMs"
   },
   "outputs": [],
   "source": [
    "train.loc[train.PlayDirection=='left', 'Dir_clean'] = train.loc[train.PlayDirection=='left', 'Dir_clean']-180"
   ]
  },
  {
   "cell_type": "code",
   "execution_count": null,
   "metadata": {
    "id": "80ICh1h8RhMs"
   },
   "outputs": [],
   "source": [
    "# Let's plot final results for Dir_clean"
   ]
  },
  {
   "cell_type": "code",
   "execution_count": null,
   "metadata": {
    "colab": {
     "base_uri": "https://localhost:8080/",
     "height": 314
    },
    "id": "ExBub34GRhMt",
    "outputId": "18728d5a-61fd-43fd-ec7e-39df1c8afc28"
   },
   "outputs": [
    {
     "data": {
      "text/plain": [
       "<seaborn.axisgrid.FacetGrid at 0x7f4e2bb4a0d0>"
      ]
     },
     "execution_count": 43,
     "metadata": {
      "tags": []
     },
     "output_type": "execute_result"
    },
    {
     "data": {
      "image/png": "[encoded data removed]",
      "text/plain": [
       "<Figure size 576x288 with 2 Axes>"
      ]
     },
     "metadata": {
      "needs_background": "light",
      "tags": []
     },
     "output_type": "display_data"
    }
   ],
   "source": [
    "mask = (train['IsRusher']==True)\n",
    "train_rusher = train.loc[mask,:]\n",
    "\n",
    "g = sns.FacetGrid(data=train_rusher, col='PlayDirection', height=4, aspect=1)\n",
    "g.map(sns.distplot, 'Dir_clean')"
   ]
  },
  {
   "cell_type": "markdown",
   "metadata": {
    "id": "PGgpQLSdRhMt"
   },
   "source": [
    "We can see that the graphs are symmetrical and the values are distributed in the same range."
   ]
  },
  {
   "cell_type": "markdown",
   "metadata": {
    "id": "TNDmMm9aRhMt"
   },
   "source": [
    "### Convert angles to radians (this will be useful when calculating cosine and sine)"
   ]
  },
  {
   "cell_type": "code",
   "execution_count": null,
   "metadata": {
    "id": "keSZZlbBRhMt"
   },
   "outputs": [],
   "source": [
    "# Convert angles to radians\n",
    "train['DirRadians']  = train['Dir_clean'] * np.pi / 180"
   ]
  },
  {
   "cell_type": "code",
   "execution_count": null,
   "metadata": {
    "colab": {
     "base_uri": "https://localhost:8080/",
     "height": 314
    },
    "id": "JB9UcqRuRhMt",
    "outputId": "c1b4a278-e39d-4024-c9b8-1993074e0e61"
   },
   "outputs": [
    {
     "data": {
      "text/plain": [
       "<seaborn.axisgrid.FacetGrid at 0x7f4e2be51990>"
      ]
     },
     "execution_count": 45,
     "metadata": {
      "tags": []
     },
     "output_type": "execute_result"
    },
    {
     "data": {
      "image/png": "[encoded data removed]",
      "text/plain": [
       "<Figure size 576x288 with 2 Axes>"
      ]
     },
     "metadata": {
      "needs_background": "light",
      "tags": []
     },
     "output_type": "display_data"
    }
   ],
   "source": [
    "# Plot angles in radians as a sanity check\n",
    "mask = (train['IsRusher']==True)\n",
    "train_rusher = train.loc[mask,:]\n",
    "\n",
    "g = sns.FacetGrid(data=train_rusher, col='PlayDirection', height=4, aspect=1)\n",
    "g.map(sns.distplot, 'DirRadians')"
   ]
  },
  {
   "cell_type": "markdown",
   "metadata": {
    "id": "L0RS3kJ9RhMu"
   },
   "source": [
    "### Let's plot players Speed and Direction (in radians) to confirm the changes we made"
   ]
  },
  {
   "cell_type": "code",
   "execution_count": null,
   "metadata": {
    "id": "S1TYxnc4RhMu"
   },
   "outputs": [],
   "source": [
    "def get_Sx_Sy(angle, speed):\n",
    "    \"\"\" Function to project of Speed and Direction (angle in radians) on X and Y axis\n",
    "    \"\"\"\n",
    "    Sx = speed * math.cos(angle)\n",
    "    Sy = speed * math.sin(angle)\n",
    "    return Sx, Sy"
   ]
  },
  {
   "cell_type": "code",
   "execution_count": null,
   "metadata": {
    "colab": {
     "base_uri": "https://localhost:8080/",
     "height": 413
    },
    "id": "V8rUf7-NRhMu",
    "outputId": "ccad4fa6-77da-4337-81e8-3d64237c7f02"
   },
   "outputs": [
    {
     "name": "stderr",
     "output_type": "stream",
     "text": [
      "No handles with labels found to put in legend.\n"
     ]
    },
    {
     "data": {
      "image/png": "[encoded data removed]",
      "text/plain": [
       "<Figure size 864x455.76 with 1 Axes>"
      ]
     },
     "metadata": {
      "needs_background": "light",
      "tags": []
     },
     "output_type": "display_data"
    }
   ],
   "source": [
    "# Select a specific play_id\n",
    "play_id = 20170907000189\n",
    "\n",
    "fig, ax = create_football_field()\n",
    "# Plot the away team players in orange\n",
    "train.query(\"PlayId == @play_id and Team == 'away'\").plot(x='X', y='Y', kind='scatter', ax=ax, color='orange', s=50, legend='Away')\n",
    "# Plot the away team players in blue\n",
    "train.query(\"PlayId == @play_id and Team == 'home'\").plot(x='X', y='Y', kind='scatter', ax=ax, color='blue', s=50, legend='Home')\n",
    "# Plot the rusher in red\n",
    "train.query(\"PlayId == @play_id and NflIdRusher == NflId\").plot(x='X', y='Y', kind='scatter', ax=ax, color='red', s=100, legend='Rusher')\n",
    "\n",
    "# Get rusher data\n",
    "rusher_data = train.query(\"PlayId == @play_id and NflIdRusher == NflId\")\n",
    "yards_covered = rusher_data[\"Yards\"].values[0]\n",
    "\n",
    "# Get rusher X and Y coordinates\n",
    "x = rusher_data[\"X\"].values[0]\n",
    "y = rusher_data[\"Y\"].values[0]\n",
    "\n",
    "# Get rusher direction in radians (angle)\n",
    "rusher_dir = rusher_data[\"DirRadians\"].values[0]\n",
    "\n",
    "# Get rusher speed\n",
    "rusher_speed = rusher_data[\"S\"].values[0]\n",
    "\n",
    "# Project rusher speed and direction on the X and Y axis\n",
    "Sx, Sy = get_Sx_Sy(rusher_dir, rusher_speed)\n",
    "\n",
    "ax.arrow(x, y, Sx, Sy, length_includes_head=True, width=0.5, color='red')\n",
    "plt.title(f'Play # {play_id} and yard distance is {yards_covered}', fontsize=20)\n",
    "plt.legend()\n",
    "plt.show()"
   ]
  },
  {
   "cell_type": "markdown",
   "metadata": {
    "id": "O7it6S7LRhMu"
   },
   "source": [
    "**The red arrow shows the direction in which the rusher is headed, and the length of the arrow indicates his speed.**"
   ]
  },
  {
   "cell_type": "markdown",
   "metadata": {
    "id": "6BVdu0b6RhMv"
   },
   "source": [
    "# Modeling approach"
   ]
  },
  {
   "cell_type": "markdown",
   "metadata": {
    "id": "KxZPsH-TRhMv"
   },
   "source": [
    "**As our goal is to predict how many yards will the rusher (in red) gain after receiving the ball, we'll assume that a rushing play consists of:**\n",
    "\n",
    "- **A rusher, whose aim is to run forward as far as possible.**\n",
    "\n",
    "- **11 defense players who are trying to stop the rusher.**\n",
    "- **10 remaining offense players trying to prevent defenders from blocking or tackling the rusher.**\n",
    "\n",
    "**This description already implies connections between which players are important and which might.**"
   ]
  },
  {
   "cell_type": "markdown",
   "metadata": {
    "id": "g-n-zRw4RhMv"
   },
   "source": [
    "If we focus on the rusher and remove other offense team players, it looks like a simple game where one player tries to run away and 11 others try to catch him. We assume that as soon as the rushing play starts, every defender regardless of the position, will focus on stopping the rusher asap and every defender has a chance to do it. The chances of a defender to tackle the rusher (as well as estimated location of the tackle) depend on their relative location, speed and direction of movements."
   ]
  },
  {
   "cell_type": "markdown",
   "metadata": {
    "id": "C1bI2VbzRhMv"
   },
   "source": [
    "That points to the idea of a **convolution over individual defenders using relative locations and speeds, and then applying pooling on top.**"
   ]
  },
  {
   "cell_type": "markdown",
   "metadata": {
    "id": "_NllYu5kRhMv"
   },
   "source": [
    "To include the offense team player we follow the same logic - these 10 players will try to block or tackle any of the defender if there is a risk of getting the rusher stopped. So, to assess the position of a defender we want to go through all the offense team players, use their location and speed relative to the defender, and then aggregate. To do so, we apply **convolution and pooling again.**"
   ]
  },
  {
   "cell_type": "markdown",
   "metadata": {
    "id": "D_9TWVpQRhMv"
   },
   "source": [
    "## Converting a play into a 3D tensor"
   ]
  },
  {
   "cell_type": "markdown",
   "metadata": {
    "id": "RWBEaaPoRhMv"
   },
   "source": [
    "**Each play is converted into a 3D tensor with the following shape 11x10x10.**\n",
    "The 3 dimensions correspond to: 11 defenders x 10 offense players x 10 numeric features that we're going to create from the original data:"
   ]
  },
  {
   "cell_type": "markdown",
   "metadata": {
    "id": "0nh_WAulRhMw"
   },
   "source": [
    "<img src=\"images/3D_tensor4.png\">"
   ]
  },
  {
   "cell_type": "markdown",
   "metadata": {
    "id": "S_l_OABWRhMw"
   },
   "source": [
    "**The numeric features to create are listed below:**\n",
    "1. Sx: defender's speed projected on X axis. It is constant across the offense axis. \n",
    "2. Sy: defender's speed projected on Y axis. It is constant across the offense axis.\n",
    "3. Def_X - Rush_X: Defender's X coordinate relative to rusher (constant across the offense axis).\n",
    "4. Def_Y - Rush_Y: Defender's Y coordinate relative to rusher (constant across the offense axis).\n",
    "5. Def_Sx - Rush_Sx: Sx relative to rusher (constant across the offense axis).\n",
    "6. Def_Sy - Rush_Sy: Sy relative to rusher (constant across the offense axis).\n",
    "7. Defender's X coordinate relative to each offense player except the rusher.\n",
    "8. Defender's Y coordinate relative to each offense player except the rusher.\n",
    "9. Defender's Sx relative to each offense player except the rusher.\n",
    "10. Defender's Sy relative to each offense player except the rusher."
   ]
  },
  {
   "cell_type": "markdown",
   "metadata": {
    "id": "ieALu3FMRhMw"
   },
   "source": [
    "#### Helper functions"
   ]
  },
  {
   "cell_type": "code",
   "execution_count": null,
   "metadata": {
    "id": "1xHc3A2jRhMw"
   },
   "outputs": [],
   "source": [
    "def get_defender_relative_coord(df):\n",
    "    \"\"\"\n",
    "    Function to get defender's X and Y relative to the rusher for a specific play.\n",
    "    \"\"\"\n",
    "    # Get rusher X and Y\n",
    "    rushX = df.loc[df.IsRusher==True,'X'].values[0]\n",
    "    rushY = df.loc[df.IsRusher==True,'Y'].values[0]\n",
    "    \n",
    "    # Loop through defenders and compute relative coordinates X and Y\n",
    "    def_X = df.loc[df.IsOnOffense==False]['X'].apply(lambda x : x - rushX)\n",
    "    def_Y = df.loc[df.IsOnOffense==False]['Y'].apply(lambda x : x - rushY)    \n",
    "    \n",
    "    # Return results\n",
    "    return def_X, def_Y"
   ]
  },
  {
   "cell_type": "code",
   "execution_count": null,
   "metadata": {
    "id": "-kRC55d9RhMw"
   },
   "outputs": [],
   "source": [
    "def get_Sx_Sy(angle, speed):\n",
    "    \"\"\"\n",
    "    Function to get the projection of Speed and Angle on X and Y axis for a player.\n",
    "    \"\"\"\n",
    "    Sx = speed * math.cos(angle)\n",
    "    Sy = speed * math.sin(angle)\n",
    "    return Sx, Sy"
   ]
  },
  {
   "cell_type": "code",
   "execution_count": null,
   "metadata": {
    "id": "m7QXNBblRhMw"
   },
   "outputs": [],
   "source": [
    "def get_defenders_vs_offense_features(df):\n",
    "    \"\"\"\n",
    "    Function to get defenders features relative to offense players\n",
    "    \"\"\"\n",
    "    \n",
    "    def_rel_X = []\n",
    "    def_rel_Y = []\n",
    "    def_rel_Sx = []\n",
    "    def_rel_Sy = []\n",
    "\n",
    "    for def_row in df.loc[df.IsOnOffense==False,].iterrows():\n",
    "        # Get defender X and Y\n",
    "        def_X = def_row[1]['X']\n",
    "        def_Y = def_row[1]['Y']\n",
    "        # Get defender Sx and Sy\n",
    "        def_Sx = get_Sx_Sy(angle=def_row[1]['DirRadians'], speed=def_row[1]['S'])[0]\n",
    "        def_Sy = get_Sx_Sy(angle=def_row[1]['DirRadians'], speed=def_row[1]['S'])[1]\n",
    "\n",
    "        # Loop through offense team except the rusher and compute defender's relative coordinates\n",
    "        mask = (df.IsOnOffense==True) & (df.IsRusher==False)\n",
    "        for off_row in df.loc[mask,].iterrows():\n",
    "            # Get offensive player X and Y\n",
    "            off_X = off_row[1]['X']\n",
    "            off_Y = off_row[1]['Y']\n",
    "\n",
    "            # Get offensive player Sx and Sy\n",
    "            off_Sx = get_Sx_Sy(angle=off_row[1]['DirRadians'], speed=def_row[1]['S'])[0]\n",
    "            off_Sy = get_Sx_Sy(angle=off_row[1]['DirRadians'], speed=def_row[1]['S'])[1]\n",
    "\n",
    "            # Compute defender relative X, Y, Sx and Sy\n",
    "            def_rel_X.append(def_X - off_X)\n",
    "            def_rel_Y.append(def_Y - off_Y)\n",
    "            def_rel_Sx.append(def_Sx - off_Sx)\n",
    "            def_rel_Sy.append(def_Sy - off_Sy)\n",
    "\n",
    "    # Convert lists to arrays\n",
    "    def_rel_X = np.array(def_rel_X).reshape(11,10)\n",
    "    def_rel_Y = np.array(def_rel_Y).reshape(11,10)\n",
    "    def_rel_Sx = np.array(def_rel_Sx).reshape(11,10)\n",
    "    def_rel_Sy = np.array(def_rel_Sy).reshape(11,10)    \n",
    "       \n",
    "    return def_rel_X, def_rel_Y, def_rel_Sx, def_rel_Sy"
   ]
  },
  {
   "cell_type": "code",
   "execution_count": null,
   "metadata": {
    "id": "8J8-_x3lRhMx"
   },
   "outputs": [],
   "source": [
    "def create_def_rusher_features(df):\n",
    "    \"\"\"\n",
    "    Function to get defenders Sx, Sy as well their features relative to the rusher\n",
    "    \"\"\"\n",
    "    # Create Sx channel\n",
    "    Sx = np.array(df.loc[df.IsOnOffense==False][['DirRadians', 'S']].apply(lambda x : get_Sx_Sy(angle=x[0], speed=x[1])[0], axis=1))\n",
    "\n",
    "    # Create Sy channel\n",
    "    Sy = np.array(df.loc[df.IsOnOffense==False][['DirRadians', 'S']].apply(lambda x : get_Sx_Sy(angle=x[0], speed=x[1])[1], axis=1))\n",
    "    \n",
    "    # Create X coordinate relative to rusher (constant across the offense axis).\n",
    "    def_rel_X = np.array(get_defender_relative_coord(df)[0])\n",
    "    \n",
    "    # Create Y coordinate relative to rusher (constant across the offense axis).\n",
    "    def_rel_Y = np.array(get_defender_relative_coord(df)[1])\n",
    "   \n",
    "    # Get rusher Sx and Sy\n",
    "    rush_Sx = np.array(df.loc[df.IsRusher==True][['DirRadians', 'S']].apply(lambda x : get_Sx_Sy(angle=x[0], speed=x[1])[0], axis=1))\n",
    "    rush_Sy = np.array(df.loc[df.IsRusher==True][['DirRadians', 'S']].apply(lambda x : get_Sx_Sy(angle=x[0], speed=x[1])[1], axis=1))\n",
    "       \n",
    "    # Compute defender Sx and Sy relative to rusher (constant across the offense axis).\n",
    "    def_rel_Sx = Sx - rush_Sx\n",
    "    def_rel_Sy = Sy - rush_Sy\n",
    "    \n",
    "    # Reshape arrays and concatenate them\n",
    "    feat_arr = Sx.reshape(11,1)\n",
    "    arrays = [Sy, def_rel_X, def_rel_Y, def_rel_Sx, def_rel_Sy]\n",
    "    \n",
    "    for arr in arrays:\n",
    "        arr = arr.reshape(11,1)\n",
    "        feat_arr = np.concatenate((feat_arr, arr), axis=1)\n",
    "    \n",
    "    # At this stage we expect the resulting array to contain 6 values for each of the 11 defenders, \n",
    "    # i.e. the expected shape is 11x6\n",
    "    assert feat_arr.shape == (11,6)\n",
    "    \n",
    "    # As all the features we computed so far are constant across the offense axis, we will copy each array 10 times \n",
    "    result = np.repeat(feat_arr,repeats=10, axis=0).reshape(11,10,6)\n",
    "    \n",
    "    return result"
   ]
  },
  {
   "cell_type": "markdown",
   "metadata": {
    "id": "I-z4A2_pRhMx"
   },
   "source": [
    "**We can see that each feature is constant across the offense axis (axis 1 of the array) which is how the data should look like. Now we can add the defense vs offense features.** "
   ]
  },
  {
   "cell_type": "code",
   "execution_count": null,
   "metadata": {
    "id": "iHzUgqRBRhMx"
   },
   "outputs": [],
   "source": [
    "def create_play_tensor(df):\n",
    "    \"\"\"\n",
    "    Function to create the 3D tensor for a specific play\n",
    "    \"\"\"       \n",
    "    # get defender and \"defender vs rusher\" features\n",
    "    result = create_def_rusher_features(df)\n",
    "    \n",
    "    # Compute defenders coordinates and speed relative to each offense team player except the rusher\n",
    "    def_vs_off_arrays = get_defenders_vs_offense_features(df)\n",
    "    \n",
    "    # Loop through def_vs_off_arrays and concatenate values to result following axis 2\n",
    "    for arr in def_vs_off_arrays:\n",
    "        arr = arr.reshape(11, 10, 1)\n",
    "        result = np.concatenate((result, arr), axis=2)\n",
    "    \n",
    "    # Make sure the result is of shape (11, 10, 10)\n",
    "    assert result.shape == (11, 10, 10)\n",
    "        \n",
    "    return result"
   ]
  },
  {
   "cell_type": "markdown",
   "metadata": {
    "id": "cWmju-clRhMx"
   },
   "source": [
    "# Display data for a play after conversion"
   ]
  },
  {
   "cell_type": "code",
   "execution_count": null,
   "metadata": {
    "colab": {
     "base_uri": "https://localhost:8080/",
     "height": 731
    },
    "id": "0-4tsV-GRhMx",
    "outputId": "feb98a99-a9ab-4a6b-b698-c0e621e61a59"
   },
   "outputs": [
    {
     "data": {
      "text/html": [
       "<div>\n",
       "<style scoped>\n",
       "    .dataframe tbody tr th:only-of-type {\n",
       "        vertical-align: middle;\n",
       "    }\n",
       "\n",
       "    .dataframe tbody tr th {\n",
       "        vertical-align: top;\n",
       "    }\n",
       "\n",
       "    .dataframe thead th {\n",
       "        text-align: right;\n",
       "    }\n",
       "</style>\n",
       "<table border=\"1\" class=\"dataframe\">\n",
       "  <thead>\n",
       "    <tr style=\"text-align: right;\">\n",
       "      <th></th>\n",
       "      <th>PlayId</th>\n",
       "      <th>Team</th>\n",
       "      <th>X</th>\n",
       "      <th>Y</th>\n",
       "      <th>S</th>\n",
       "      <th>DirRadians</th>\n",
       "      <th>NflId</th>\n",
       "      <th>NflIdRusher</th>\n",
       "      <th>Yards</th>\n",
       "      <th>IsRusher</th>\n",
       "      <th>PlayDirection</th>\n",
       "      <th>IsOnOffense</th>\n",
       "    </tr>\n",
       "  </thead>\n",
       "  <tbody>\n",
       "    <tr>\n",
       "      <th>0</th>\n",
       "      <td>20170907000118</td>\n",
       "      <td>away</td>\n",
       "      <td>46.09</td>\n",
       "      <td>34.84</td>\n",
       "      <td>4.0</td>\n",
       "      <td>-0.049218</td>\n",
       "      <td>496723</td>\n",
       "      <td>2543773</td>\n",
       "      <td>8</td>\n",
       "      <td>False</td>\n",
       "      <td>left</td>\n",
       "      <td>False</td>\n",
       "    </tr>\n",
       "    <tr>\n",
       "      <th>1</th>\n",
       "      <td>20170907000118</td>\n",
       "      <td>away</td>\n",
       "      <td>45.33</td>\n",
       "      <td>32.64</td>\n",
       "      <td>0.1</td>\n",
       "      <td>0.326377</td>\n",
       "      <td>2495116</td>\n",
       "      <td>2543773</td>\n",
       "      <td>8</td>\n",
       "      <td>False</td>\n",
       "      <td>left</td>\n",
       "      <td>False</td>\n",
       "    </tr>\n",
       "    <tr>\n",
       "      <th>2</th>\n",
       "      <td>20170907000118</td>\n",
       "      <td>away</td>\n",
       "      <td>46.00</td>\n",
       "      <td>33.20</td>\n",
       "      <td>3.1</td>\n",
       "      <td>0.396713</td>\n",
       "      <td>2495493</td>\n",
       "      <td>2543773</td>\n",
       "      <td>8</td>\n",
       "      <td>False</td>\n",
       "      <td>left</td>\n",
       "      <td>False</td>\n",
       "    </tr>\n",
       "    <tr>\n",
       "      <th>3</th>\n",
       "      <td>20170907000118</td>\n",
       "      <td>away</td>\n",
       "      <td>48.54</td>\n",
       "      <td>27.70</td>\n",
       "      <td>0.2</td>\n",
       "      <td>-1.297827</td>\n",
       "      <td>2506353</td>\n",
       "      <td>2543773</td>\n",
       "      <td>8</td>\n",
       "      <td>False</td>\n",
       "      <td>left</td>\n",
       "      <td>False</td>\n",
       "    </tr>\n",
       "    <tr>\n",
       "      <th>4</th>\n",
       "      <td>20170907000118</td>\n",
       "      <td>away</td>\n",
       "      <td>50.68</td>\n",
       "      <td>35.42</td>\n",
       "      <td>1.6</td>\n",
       "      <td>-0.273842</td>\n",
       "      <td>2530794</td>\n",
       "      <td>2543773</td>\n",
       "      <td>8</td>\n",
       "      <td>False</td>\n",
       "      <td>left</td>\n",
       "      <td>False</td>\n",
       "    </tr>\n",
       "    <tr>\n",
       "      <th>5</th>\n",
       "      <td>20170907000118</td>\n",
       "      <td>away</td>\n",
       "      <td>44.94</td>\n",
       "      <td>24.00</td>\n",
       "      <td>1.8</td>\n",
       "      <td>-1.483355</td>\n",
       "      <td>2543494</td>\n",
       "      <td>2543773</td>\n",
       "      <td>8</td>\n",
       "      <td>False</td>\n",
       "      <td>left</td>\n",
       "      <td>False</td>\n",
       "    </tr>\n",
       "    <tr>\n",
       "      <th>6</th>\n",
       "      <td>20170907000118</td>\n",
       "      <td>away</td>\n",
       "      <td>45.89</td>\n",
       "      <td>16.64</td>\n",
       "      <td>0.2</td>\n",
       "      <td>2.488665</td>\n",
       "      <td>2543637</td>\n",
       "      <td>2543773</td>\n",
       "      <td>8</td>\n",
       "      <td>False</td>\n",
       "      <td>left</td>\n",
       "      <td>False</td>\n",
       "    </tr>\n",
       "    <tr>\n",
       "      <th>7</th>\n",
       "      <td>20170907000118</td>\n",
       "      <td>away</td>\n",
       "      <td>46.63</td>\n",
       "      <td>18.73</td>\n",
       "      <td>1.3</td>\n",
       "      <td>1.571494</td>\n",
       "      <td>2543851</td>\n",
       "      <td>2543773</td>\n",
       "      <td>8</td>\n",
       "      <td>False</td>\n",
       "      <td>left</td>\n",
       "      <td>False</td>\n",
       "    </tr>\n",
       "    <tr>\n",
       "      <th>8</th>\n",
       "      <td>20170907000118</td>\n",
       "      <td>away</td>\n",
       "      <td>63.37</td>\n",
       "      <td>26.90</td>\n",
       "      <td>2.8</td>\n",
       "      <td>4.106934</td>\n",
       "      <td>2550257</td>\n",
       "      <td>2543773</td>\n",
       "      <td>8</td>\n",
       "      <td>False</td>\n",
       "      <td>left</td>\n",
       "      <td>False</td>\n",
       "    </tr>\n",
       "    <tr>\n",
       "      <th>9</th>\n",
       "      <td>20170907000118</td>\n",
       "      <td>away</td>\n",
       "      <td>46.65</td>\n",
       "      <td>38.83</td>\n",
       "      <td>5.1</td>\n",
       "      <td>0.189194</td>\n",
       "      <td>2552488</td>\n",
       "      <td>2543773</td>\n",
       "      <td>8</td>\n",
       "      <td>False</td>\n",
       "      <td>left</td>\n",
       "      <td>False</td>\n",
       "    </tr>\n",
       "    <tr>\n",
       "      <th>10</th>\n",
       "      <td>20170907000118</td>\n",
       "      <td>away</td>\n",
       "      <td>45.85</td>\n",
       "      <td>28.90</td>\n",
       "      <td>0.1</td>\n",
       "      <td>1.643053</td>\n",
       "      <td>2556369</td>\n",
       "      <td>2543773</td>\n",
       "      <td>8</td>\n",
       "      <td>False</td>\n",
       "      <td>left</td>\n",
       "      <td>False</td>\n",
       "    </tr>\n",
       "    <tr>\n",
       "      <th>11</th>\n",
       "      <td>20170907000118</td>\n",
       "      <td>home</td>\n",
       "      <td>44.18</td>\n",
       "      <td>17.56</td>\n",
       "      <td>5.5</td>\n",
       "      <td>1.817760</td>\n",
       "      <td>2649</td>\n",
       "      <td>2543773</td>\n",
       "      <td>8</td>\n",
       "      <td>False</td>\n",
       "      <td>left</td>\n",
       "      <td>True</td>\n",
       "    </tr>\n",
       "    <tr>\n",
       "      <th>12</th>\n",
       "      <td>20170907000118</td>\n",
       "      <td>home</td>\n",
       "      <td>45.22</td>\n",
       "      <td>33.21</td>\n",
       "      <td>1.9</td>\n",
       "      <td>0.626573</td>\n",
       "      <td>497240</td>\n",
       "      <td>2543773</td>\n",
       "      <td>8</td>\n",
       "      <td>False</td>\n",
       "      <td>left</td>\n",
       "      <td>True</td>\n",
       "    </tr>\n",
       "    <tr>\n",
       "      <th>13</th>\n",
       "      <td>20170907000118</td>\n",
       "      <td>home</td>\n",
       "      <td>44.57</td>\n",
       "      <td>32.41</td>\n",
       "      <td>3.2</td>\n",
       "      <td>0.746303</td>\n",
       "      <td>2495131</td>\n",
       "      <td>2543773</td>\n",
       "      <td>8</td>\n",
       "      <td>False</td>\n",
       "      <td>left</td>\n",
       "      <td>True</td>\n",
       "    </tr>\n",
       "    <tr>\n",
       "      <th>14</th>\n",
       "      <td>20170907000118</td>\n",
       "      <td>home</td>\n",
       "      <td>44.10</td>\n",
       "      <td>25.12</td>\n",
       "      <td>1.9</td>\n",
       "      <td>0.323759</td>\n",
       "      <td>2495232</td>\n",
       "      <td>2543773</td>\n",
       "      <td>8</td>\n",
       "      <td>False</td>\n",
       "      <td>left</td>\n",
       "      <td>True</td>\n",
       "    </tr>\n",
       "    <tr>\n",
       "      <th>15</th>\n",
       "      <td>20170907000118</td>\n",
       "      <td>home</td>\n",
       "      <td>40.24</td>\n",
       "      <td>29.49</td>\n",
       "      <td>0.0</td>\n",
       "      <td>-1.206721</td>\n",
       "      <td>2504211</td>\n",
       "      <td>2543773</td>\n",
       "      <td>8</td>\n",
       "      <td>False</td>\n",
       "      <td>left</td>\n",
       "      <td>True</td>\n",
       "    </tr>\n",
       "    <tr>\n",
       "      <th>16</th>\n",
       "      <td>20170907000118</td>\n",
       "      <td>home</td>\n",
       "      <td>43.53</td>\n",
       "      <td>36.91</td>\n",
       "      <td>5.9</td>\n",
       "      <td>0.263370</td>\n",
       "      <td>2530515</td>\n",
       "      <td>2543773</td>\n",
       "      <td>8</td>\n",
       "      <td>False</td>\n",
       "      <td>left</td>\n",
       "      <td>True</td>\n",
       "    </tr>\n",
       "    <tr>\n",
       "      <th>17</th>\n",
       "      <td>20170907000118</td>\n",
       "      <td>home</td>\n",
       "      <td>45.30</td>\n",
       "      <td>19.19</td>\n",
       "      <td>5.1</td>\n",
       "      <td>1.719498</td>\n",
       "      <td>2543498</td>\n",
       "      <td>2543773</td>\n",
       "      <td>8</td>\n",
       "      <td>False</td>\n",
       "      <td>left</td>\n",
       "      <td>True</td>\n",
       "    </tr>\n",
       "    <tr>\n",
       "      <th>18</th>\n",
       "      <td>20170907000118</td>\n",
       "      <td>home</td>\n",
       "      <td>41.25</td>\n",
       "      <td>30.53</td>\n",
       "      <td>3.8</td>\n",
       "      <td>1.147379</td>\n",
       "      <td>2543773</td>\n",
       "      <td>2543773</td>\n",
       "      <td>8</td>\n",
       "      <td>True</td>\n",
       "      <td>left</td>\n",
       "      <td>True</td>\n",
       "    </tr>\n",
       "    <tr>\n",
       "      <th>19</th>\n",
       "      <td>20170907000118</td>\n",
       "      <td>home</td>\n",
       "      <td>45.40</td>\n",
       "      <td>31.88</td>\n",
       "      <td>1.7</td>\n",
       "      <td>1.524022</td>\n",
       "      <td>2552563</td>\n",
       "      <td>2543773</td>\n",
       "      <td>8</td>\n",
       "      <td>False</td>\n",
       "      <td>left</td>\n",
       "      <td>True</td>\n",
       "    </tr>\n",
       "    <tr>\n",
       "      <th>20</th>\n",
       "      <td>20170907000118</td>\n",
       "      <td>home</td>\n",
       "      <td>45.42</td>\n",
       "      <td>29.12</td>\n",
       "      <td>2.2</td>\n",
       "      <td>1.082977</td>\n",
       "      <td>2553632</td>\n",
       "      <td>2543773</td>\n",
       "      <td>8</td>\n",
       "      <td>False</td>\n",
       "      <td>left</td>\n",
       "      <td>True</td>\n",
       "    </tr>\n",
       "    <tr>\n",
       "      <th>21</th>\n",
       "      <td>20170907000118</td>\n",
       "      <td>home</td>\n",
       "      <td>45.42</td>\n",
       "      <td>28.47</td>\n",
       "      <td>2.4</td>\n",
       "      <td>1.320691</td>\n",
       "      <td>2555281</td>\n",
       "      <td>2543773</td>\n",
       "      <td>8</td>\n",
       "      <td>False</td>\n",
       "      <td>left</td>\n",
       "      <td>True</td>\n",
       "    </tr>\n",
       "  </tbody>\n",
       "</table>\n",
       "</div>"
      ],
      "text/plain": [
       "            PlayId  Team      X      Y    S  DirRadians    NflId  NflIdRusher  \\\n",
       "0   20170907000118  away  46.09  34.84  4.0   -0.049218   496723      2543773   \n",
       "1   20170907000118  away  45.33  32.64  0.1    0.326377  2495116      2543773   \n",
       "2   20170907000118  away  46.00  33.20  3.1    0.396713  2495493      2543773   \n",
       "3   20170907000118  away  48.54  27.70  0.2   -1.297827  2506353      2543773   \n",
       "4   20170907000118  away  50.68  35.42  1.6   -0.273842  2530794      2543773   \n",
       "5   20170907000118  away  44.94  24.00  1.8   -1.483355  2543494      2543773   \n",
       "6   20170907000118  away  45.89  16.64  0.2    2.488665  2543637      2543773   \n",
       "7   20170907000118  away  46.63  18.73  1.3    1.571494  2543851      2543773   \n",
       "8   20170907000118  away  63.37  26.90  2.8    4.106934  2550257      2543773   \n",
       "9   20170907000118  away  46.65  38.83  5.1    0.189194  2552488      2543773   \n",
       "10  20170907000118  away  45.85  28.90  0.1    1.643053  2556369      2543773   \n",
       "11  20170907000118  home  44.18  17.56  5.5    1.817760     2649      2543773   \n",
       "12  20170907000118  home  45.22  33.21  1.9    0.626573   497240      2543773   \n",
       "13  20170907000118  home  44.57  32.41  3.2    0.746303  2495131      2543773   \n",
       "14  20170907000118  home  44.10  25.12  1.9    0.323759  2495232      2543773   \n",
       "15  20170907000118  home  40.24  29.49  0.0   -1.206721  2504211      2543773   \n",
       "16  20170907000118  home  43.53  36.91  5.9    0.263370  2530515      2543773   \n",
       "17  20170907000118  home  45.30  19.19  5.1    1.719498  2543498      2543773   \n",
       "18  20170907000118  home  41.25  30.53  3.8    1.147379  2543773      2543773   \n",
       "19  20170907000118  home  45.40  31.88  1.7    1.524022  2552563      2543773   \n",
       "20  20170907000118  home  45.42  29.12  2.2    1.082977  2553632      2543773   \n",
       "21  20170907000118  home  45.42  28.47  2.4    1.320691  2555281      2543773   \n",
       "\n",
       "    Yards  IsRusher PlayDirection  IsOnOffense  \n",
       "0       8     False          left        False  \n",
       "1       8     False          left        False  \n",
       "2       8     False          left        False  \n",
       "3       8     False          left        False  \n",
       "4       8     False          left        False  \n",
       "5       8     False          left        False  \n",
       "6       8     False          left        False  \n",
       "7       8     False          left        False  \n",
       "8       8     False          left        False  \n",
       "9       8     False          left        False  \n",
       "10      8     False          left        False  \n",
       "11      8     False          left         True  \n",
       "12      8     False          left         True  \n",
       "13      8     False          left         True  \n",
       "14      8     False          left         True  \n",
       "15      8     False          left         True  \n",
       "16      8     False          left         True  \n",
       "17      8     False          left         True  \n",
       "18      8      True          left         True  \n",
       "19      8     False          left         True  \n",
       "20      8     False          left         True  \n",
       "21      8     False          left         True  "
      ]
     },
     "execution_count": 53,
     "metadata": {
      "tags": []
     },
     "output_type": "execute_result"
    }
   ],
   "source": [
    "cols = ['PlayId', 'Team', 'X', 'Y', 'S', 'DirRadians',  'NflId', 'NflIdRusher',  'Yards', 'IsRusher', 'PlayDirection', 'IsOnOffense']\n",
    "# Select a specific play\n",
    "play_id = 20170907000118\n",
    "play_data = train[cols].query('PlayId == @play_id').copy(deep=True)\n",
    "play_data"
   ]
  },
  {
   "cell_type": "code",
   "execution_count": null,
   "metadata": {
    "colab": {
     "base_uri": "https://localhost:8080/"
    },
    "id": "7GV9bfKKRhMy",
    "outputId": "d3070274-f89b-4e9f-d4f1-e760ff7984f3"
   },
   "outputs": [
    {
     "name": "stdout",
     "output_type": "stream",
     "text": [
      "play_data has been converted into a 3D tensor of shape: (11, 10, 10)\n"
     ]
    }
   ],
   "source": [
    "# Convert play_data into a 3D tensor\n",
    "play_tensor = create_play_tensor(play_data)\n",
    "\n",
    "print(f\"play_data has been converted into a 3D tensor of shape: {play_tensor.shape}\")"
   ]
  },
  {
   "cell_type": "markdown",
   "metadata": {
    "id": "DQ8BKwUCRhMy"
   },
   "source": [
    "Goal is to predict how far the rusher will go\n",
    "Input variables are the 3D shaped tensor containing the variables for defense vs offense players, defense vs rusher"
   ]
  },
  {
   "cell_type": "markdown",
   "metadata": {
    "id": "CI-i_ABARhMy"
   },
   "source": [
    "<br>\n",
    "\n",
    "\n",
    "# Print data for one defense player vs all offense players\n",
    "**we expect to see 10 features where 6 of them are constant across the offense axis.**"
   ]
  },
  {
   "cell_type": "code",
   "execution_count": null,
   "metadata": {
    "colab": {
     "base_uri": "https://localhost:8080/",
     "height": 359
    },
    "id": "6dvoYn3sRhMy",
    "outputId": "27c1ea80-bdb8-4759-d8f2-d628effc1208"
   },
   "outputs": [
    {
     "data": {
      "text/html": [
       "<div>\n",
       "<style scoped>\n",
       "    .dataframe tbody tr th:only-of-type {\n",
       "        vertical-align: middle;\n",
       "    }\n",
       "\n",
       "    .dataframe tbody tr th {\n",
       "        vertical-align: top;\n",
       "    }\n",
       "\n",
       "    .dataframe thead th {\n",
       "        text-align: right;\n",
       "    }\n",
       "</style>\n",
       "<table border=\"1\" class=\"dataframe\">\n",
       "  <thead>\n",
       "    <tr style=\"text-align: right;\">\n",
       "      <th></th>\n",
       "      <th>Sx</th>\n",
       "      <th>Sy</th>\n",
       "      <th>Def_Rush_X</th>\n",
       "      <th>Def_Rush_Y</th>\n",
       "      <th>Def_Rush_Sx</th>\n",
       "      <th>Def_Rush_Sy</th>\n",
       "      <th>Def_Off_X</th>\n",
       "      <th>Def_Off_Y</th>\n",
       "      <th>Def_Off_Sx</th>\n",
       "      <th>Def_Off_Sy</th>\n",
       "    </tr>\n",
       "  </thead>\n",
       "  <tbody>\n",
       "    <tr>\n",
       "      <th>Off1</th>\n",
       "      <td>3.995156</td>\n",
       "      <td>-0.196794</td>\n",
       "      <td>4.84</td>\n",
       "      <td>4.31</td>\n",
       "      <td>2.43382</td>\n",
       "      <td>-3.661217</td>\n",
       "      <td>1.91</td>\n",
       "      <td>17.28</td>\n",
       "      <td>4.973001</td>\n",
       "      <td>-4.075430</td>\n",
       "    </tr>\n",
       "    <tr>\n",
       "      <th>Off2</th>\n",
       "      <td>3.995156</td>\n",
       "      <td>-0.196794</td>\n",
       "      <td>4.84</td>\n",
       "      <td>4.31</td>\n",
       "      <td>2.43382</td>\n",
       "      <td>-3.661217</td>\n",
       "      <td>0.87</td>\n",
       "      <td>1.63</td>\n",
       "      <td>0.754990</td>\n",
       "      <td>-2.542283</td>\n",
       "    </tr>\n",
       "    <tr>\n",
       "      <th>Off3</th>\n",
       "      <td>3.995156</td>\n",
       "      <td>-0.196794</td>\n",
       "      <td>4.84</td>\n",
       "      <td>4.31</td>\n",
       "      <td>2.43382</td>\n",
       "      <td>-3.661217</td>\n",
       "      <td>1.52</td>\n",
       "      <td>2.43</td>\n",
       "      <td>1.058340</td>\n",
       "      <td>-2.912509</td>\n",
       "    </tr>\n",
       "    <tr>\n",
       "      <th>Off4</th>\n",
       "      <td>3.995156</td>\n",
       "      <td>-0.196794</td>\n",
       "      <td>4.84</td>\n",
       "      <td>4.31</td>\n",
       "      <td>2.43382</td>\n",
       "      <td>-3.661217</td>\n",
       "      <td>1.99</td>\n",
       "      <td>9.72</td>\n",
       "      <td>0.202971</td>\n",
       "      <td>-1.469322</td>\n",
       "    </tr>\n",
       "    <tr>\n",
       "      <th>Off5</th>\n",
       "      <td>3.995156</td>\n",
       "      <td>-0.196794</td>\n",
       "      <td>4.84</td>\n",
       "      <td>4.31</td>\n",
       "      <td>2.43382</td>\n",
       "      <td>-3.661217</td>\n",
       "      <td>5.85</td>\n",
       "      <td>5.35</td>\n",
       "      <td>2.570813</td>\n",
       "      <td>3.541020</td>\n",
       "    </tr>\n",
       "    <tr>\n",
       "      <th>Off6</th>\n",
       "      <td>3.995156</td>\n",
       "      <td>-0.196794</td>\n",
       "      <td>4.84</td>\n",
       "      <td>4.31</td>\n",
       "      <td>2.43382</td>\n",
       "      <td>-3.661217</td>\n",
       "      <td>2.56</td>\n",
       "      <td>-2.07</td>\n",
       "      <td>0.133084</td>\n",
       "      <td>-1.238138</td>\n",
       "    </tr>\n",
       "    <tr>\n",
       "      <th>Off7</th>\n",
       "      <td>3.995156</td>\n",
       "      <td>-0.196794</td>\n",
       "      <td>4.84</td>\n",
       "      <td>4.31</td>\n",
       "      <td>2.43382</td>\n",
       "      <td>-3.661217</td>\n",
       "      <td>0.79</td>\n",
       "      <td>15.65</td>\n",
       "      <td>4.587775</td>\n",
       "      <td>-4.152650</td>\n",
       "    </tr>\n",
       "    <tr>\n",
       "      <th>Off8</th>\n",
       "      <td>3.995156</td>\n",
       "      <td>-0.196794</td>\n",
       "      <td>4.84</td>\n",
       "      <td>4.31</td>\n",
       "      <td>2.43382</td>\n",
       "      <td>-3.661217</td>\n",
       "      <td>0.69</td>\n",
       "      <td>2.96</td>\n",
       "      <td>3.808125</td>\n",
       "      <td>-4.192419</td>\n",
       "    </tr>\n",
       "    <tr>\n",
       "      <th>Off9</th>\n",
       "      <td>3.995156</td>\n",
       "      <td>-0.196794</td>\n",
       "      <td>4.84</td>\n",
       "      <td>4.31</td>\n",
       "      <td>2.43382</td>\n",
       "      <td>-3.661217</td>\n",
       "      <td>0.67</td>\n",
       "      <td>5.72</td>\n",
       "      <td>2.120353</td>\n",
       "      <td>-3.730221</td>\n",
       "    </tr>\n",
       "    <tr>\n",
       "      <th>Off10</th>\n",
       "      <td>3.995156</td>\n",
       "      <td>-0.196794</td>\n",
       "      <td>4.84</td>\n",
       "      <td>4.31</td>\n",
       "      <td>2.43382</td>\n",
       "      <td>-3.661217</td>\n",
       "      <td>0.67</td>\n",
       "      <td>6.37</td>\n",
       "      <td>3.005131</td>\n",
       "      <td>-4.072339</td>\n",
       "    </tr>\n",
       "  </tbody>\n",
       "</table>\n",
       "</div>"
      ],
      "text/plain": [
       "             Sx        Sy  Def_Rush_X  Def_Rush_Y  Def_Rush_Sx  Def_Rush_Sy  \\\n",
       "Off1   3.995156 -0.196794        4.84        4.31      2.43382    -3.661217   \n",
       "Off2   3.995156 -0.196794        4.84        4.31      2.43382    -3.661217   \n",
       "Off3   3.995156 -0.196794        4.84        4.31      2.43382    -3.661217   \n",
       "Off4   3.995156 -0.196794        4.84        4.31      2.43382    -3.661217   \n",
       "Off5   3.995156 -0.196794        4.84        4.31      2.43382    -3.661217   \n",
       "Off6   3.995156 -0.196794        4.84        4.31      2.43382    -3.661217   \n",
       "Off7   3.995156 -0.196794        4.84        4.31      2.43382    -3.661217   \n",
       "Off8   3.995156 -0.196794        4.84        4.31      2.43382    -3.661217   \n",
       "Off9   3.995156 -0.196794        4.84        4.31      2.43382    -3.661217   \n",
       "Off10  3.995156 -0.196794        4.84        4.31      2.43382    -3.661217   \n",
       "\n",
       "       Def_Off_X  Def_Off_Y  Def_Off_Sx  Def_Off_Sy  \n",
       "Off1        1.91      17.28    4.973001   -4.075430  \n",
       "Off2        0.87       1.63    0.754990   -2.542283  \n",
       "Off3        1.52       2.43    1.058340   -2.912509  \n",
       "Off4        1.99       9.72    0.202971   -1.469322  \n",
       "Off5        5.85       5.35    2.570813    3.541020  \n",
       "Off6        2.56      -2.07    0.133084   -1.238138  \n",
       "Off7        0.79      15.65    4.587775   -4.152650  \n",
       "Off8        0.69       2.96    3.808125   -4.192419  \n",
       "Off9        0.67       5.72    2.120353   -3.730221  \n",
       "Off10       0.67       6.37    3.005131   -4.072339  "
      ]
     },
     "execution_count": 55,
     "metadata": {
      "tags": []
     },
     "output_type": "execute_result"
    }
   ],
   "source": [
    "rows = ['Off1', 'Off2', 'Off3', 'Off4', 'Off5', 'Off6', 'Off7', 'Off8', 'Off9', 'Off10']\n",
    "columns=['Sx', 'Sy', 'Def_Rush_X', 'Def_Rush_Y', 'Def_Rush_Sx', 'Def_Rush_Sy', 'Def_Off_X', 'Def_Off_Y', 'Def_Off_Sx', 'Def_Off_Sy']\n",
    "\n",
    "pd.DataFrame(data=play_tensor[0], index=rows, columns=columns )"
   ]
  },
  {
   "cell_type": "markdown",
   "metadata": {
    "id": "33UhIoSORhMy"
   },
   "source": [
    "# Model architecture"
   ]
  },
  {
   "cell_type": "markdown",
   "metadata": {
    "id": "h6JuqsgORhMz"
   },
   "source": [
    "<img src=\"./images/model_structure.png\">"
   ]
  },
  {
   "cell_type": "markdown",
   "metadata": {
    "id": "A4_dQkq0RhMz"
   },
   "source": [
    "The model architecture comprises 3 parts:\n",
    "\n",
    "* A bloc of three 2D convolutions followed by a weighted sum of max and average pooling. \n",
    "Note that the pooling layers have a pool_size of (1,10) to extract features related to defense - offense pairs of players.\n",
    "\n",
    "* A bloc of three 1D convolutions followed by a weighted sum of max and average pooling. \n",
    "Note that the pooling layers have a pool_size of (1,10) to extract features per defense player."
   ]
  },
  {
   "cell_type": "code",
   "execution_count": null,
   "metadata": {
    "id": "dIOzgAIzRhMz"
   },
   "outputs": [],
   "source": [
    "input_dense_players = Input(shape=(11,10,10), name = \"numerical_players_feature_input\")\n",
    "\n",
    "# 1st bloc of convolutions\n",
    "x = Conv2D(128, kernel_size=(1,1), strides=(1,1), activation=None)(input_dense_players)\n",
    "\n",
    "x = Activation('relu')(x)\n",
    "\n",
    "x = Conv2D(160, kernel_size=(1,1), strides=(1,1), activation=None)(x)\n",
    "\n",
    "x = Activation('relu')(x)\n",
    "\n",
    "x = Conv2D(128, kernel_size=(1,1), strides=(1,1), activation=None)(x)\n",
    "\n",
    "x = Activation('relu')(x)\n",
    "\n",
    "xmax = MaxPooling2D(pool_size=(1,10))(x)\n",
    "\n",
    "xmax = Lambda(lambda x1 : x1*0.3)(xmax)\n",
    "\n",
    "xavg = AvgPool2D(pool_size=(1,10))(x)\n",
    "\n",
    "xavg = Lambda(lambda x1 : x1*0.7)(xavg)\n",
    "\n",
    "x = Add()([xmax, xavg])\n",
    "\n",
    "x = Lambda(lambda y : K.squeeze(y,2))(x)\n",
    "\n",
    "x = BatchNormalization()(x)\n",
    "\n",
    "# 2nd bloc of convolutions\n",
    "x = Conv1D(128, kernel_size=1, strides=1, activation=None)(x)\n",
    "\n",
    "x = Activation('relu')(x)\n",
    "\n",
    "x = BatchNormalization()(x)\n",
    "\n",
    "x = Conv1D(160, kernel_size=1, strides=1, activation=None)(x)\n",
    "\n",
    "x = Activation('relu')(x)\n",
    "\n",
    "x = BatchNormalization()(x)\n",
    "\n",
    "x = Conv1D(96, kernel_size=1, strides=1, activation=None)(x)\n",
    "\n",
    "x = Activation('relu')(x)\n",
    "\n",
    "x = BatchNormalization()(x)\n",
    "\n",
    "xmax = MaxPooling1D(pool_size=11)(x)\n",
    "\n",
    "xmax = Lambda(lambda x1 : x1*0.3)(xmax)\n",
    "\n",
    "xavg = AvgPool1D(pool_size=11)(x)\n",
    "\n",
    "xavg = Lambda(lambda x1 : x1*0.7)(xavg)\n",
    "\n",
    "x = Add()([xmax, xavg])\n",
    "\n",
    "x = Lambda(lambda y : K.squeeze(y,1))(x)\n",
    "\n",
    "x = Dense(96)(x)\n",
    "\n",
    "x = Activation('relu')(x)\n",
    "\n",
    "x = BatchNormalization()(x)\n",
    "\n",
    "x = Dense(256, activation=\"relu\")(x)\n",
    "\n",
    "x = Activation('relu')(x)\n",
    "\n",
    "x = BatchNormalization()(x)\n",
    "\n",
    "out_soft = Dense(199, activation='softmax', name = \"main_op_1\")(x)\n",
    "\n",
    "model = Model(inputs = [input_dense_players], outputs = [out_soft])"
   ]
  },
  {
   "cell_type": "markdown",
   "metadata": {},
   "source": [
    "# Create custom CRPS loss function - Continuous Ranked Probability Score"
   ]
  },
  {
   "cell_type": "code",
   "execution_count": 1,
   "metadata": {
    "id": "9XT-a9ozfZhf"
   },
   "outputs": [],
   "source": [
    "def crps_fn(y_true, y_pred):\n",
    "    y_true = tf.keras.backend.clip(tf.math.cumsum(y_true, axis=1), 0, 1)\n",
    "    y_pred = tf.keras.backend.clip(tf.math.cumsum(y_pred, axis=1), 0, 1)\n",
    "    crps = tf.math.reduce_sum( (y_true - y_pred) ** 2, axis=None) \n",
    "    crps = tf.math.divide (crps,199)\n",
    "    return crps"
   ]
  },
  {
   "cell_type": "code",
   "execution_count": null,
   "metadata": {
    "id": "doxNj2LDt9Bk"
   },
   "outputs": [],
   "source": [
    "opt = keras.optimizers.Adam(learning_rate=0.0005, clipnorm=1.0)\n",
    "model.compile(optimizer=opt, loss=crps_fn, metrics=[crps_fn])"
   ]
  },
  {
   "cell_type": "markdown",
   "metadata": {
    "id": "KQfu9Fj5RhMz"
   },
   "source": [
    "# Create a generator to feed data to the model while training it"
   ]
  },
  {
   "cell_type": "code",
   "execution_count": null,
   "metadata": {
    "id": "C118v4gWRhMz"
   },
   "outputs": [],
   "source": [
    "def generator (df, targets, batch_size):\n",
    "     \n",
    "    # Get unique playIds\n",
    "    play_ids = df['PlayId'].unique()\n",
    "    \n",
    "    # Get number of plays available in data\n",
    "    nbr_plays = len(play_ids)\n",
    "\n",
    "    while True:\n",
    "        # Loop through plays and take a number equal to batch_size each time\n",
    "        for idx in range(0, nbr_plays, batch_size):\n",
    "            # Set upper bound to get last play of a batch\n",
    "            up_bound = min(idx+batch_size, nbr_plays)\n",
    "            \n",
    "            # Select play ids for this batch\n",
    "            batch_play_ids = play_ids[idx:up_bound]\n",
    "            \n",
    "            # Convert plays into 3D tensors\n",
    "            batch_tensors = []\n",
    "            for play_id in batch_play_ids:\n",
    "                play_tensor = create_play_tensor(df.loc[df['PlayId']==play_id])\n",
    "                #.reshape(11,10,10)\n",
    "                batch_tensors.append(play_tensor)\n",
    "            batch_tensors = np.array(batch_tensors)\n",
    "            # Get targets \n",
    "            batch_targets = targets.loc[batch_play_ids]\n",
    "            batch_targets = to_categorical(batch_targets.values.ravel(), num_classes=199)\n",
    "\n",
    "            yield batch_tensors, batch_targets"
   ]
  },
  {
   "cell_type": "markdown",
   "metadata": {
    "id": "6Pv4lYZghe9R"
   },
   "source": [
    "## **Split the data into training, validation and test sets**"
   ]
  },
  {
   "cell_type": "code",
   "execution_count": null,
   "metadata": {
    "id": "Py5x651dfNzK"
   },
   "outputs": [],
   "source": [
    "# Select a subset of columns that we're going to use to train the model\n",
    "cols = ['PlayId', 'Team', 'X', 'Y', 'S', 'DirRadians',  'NflId', 'NflIdRusher',  'Yards', 'IsRusher', 'PlayDirection', 'IsOnOffense', 'Season']\n",
    "data = train[cols]"
   ]
  },
  {
   "cell_type": "code",
   "execution_count": null,
   "metadata": {
    "colab": {
     "base_uri": "https://localhost:8080/"
    },
    "id": "9kHg4RaChlhS",
    "outputId": "cb93453c-555b-4582-8259-0affe5ca51ce"
   },
   "outputs": [
    {
     "data": {
      "text/plain": [
       "2017    0.383784\n",
       "2018    0.363499\n",
       "2019    0.252717\n",
       "Name: Season, dtype: float64"
      ]
     },
     "execution_count": 61,
     "metadata": {
      "tags": []
     },
     "output_type": "execute_result"
    }
   ],
   "source": [
    "data['Season'].value_counts(normalize=True)"
   ]
  },
  {
   "cell_type": "code",
   "execution_count": null,
   "metadata": {
    "colab": {
     "base_uri": "https://localhost:8080/"
    },
    "id": "7Mfe7qOngQ1v",
    "outputId": "c96e8f97-a7b5-4b03-a46b-2b8343cef91c"
   },
   "outputs": [
    {
     "data": {
      "text/plain": [
       "2017    261800\n",
       "2018    247962\n",
       "2019    172392\n",
       "Name: Season, dtype: int64"
      ]
     },
     "execution_count": 62,
     "metadata": {
      "tags": []
     },
     "output_type": "execute_result"
    }
   ],
   "source": [
    "data['Season'].value_counts(normalize=False)"
   ]
  },
  {
   "cell_type": "code",
   "execution_count": null,
   "metadata": {
    "id": "BsC4yPP0h8um"
   },
   "outputs": [],
   "source": [
    "# Let's take 80% of the data for training and validation, and the remaining 20% for testing. Testing data will be composed of records from 2019."
   ]
  },
  {
   "cell_type": "code",
   "execution_count": null,
   "metadata": {
    "id": "bpTOaKjEkKk9"
   },
   "outputs": [],
   "source": [
    "play_indices = data[['PlayId', 'Season']].drop_duplicates(subset='PlayId')"
   ]
  },
  {
   "cell_type": "code",
   "execution_count": null,
   "metadata": {
    "colab": {
     "base_uri": "https://localhost:8080/",
     "height": 173
    },
    "id": "EVEzT-nrka0O",
    "outputId": "2dac30cf-e3f4-4956-e37e-b0ae3afd929a"
   },
   "outputs": [
    {
     "data": {
      "text/html": [
       "<div>\n",
       "<style scoped>\n",
       "    .dataframe tbody tr th:only-of-type {\n",
       "        vertical-align: middle;\n",
       "    }\n",
       "\n",
       "    .dataframe tbody tr th {\n",
       "        vertical-align: top;\n",
       "    }\n",
       "\n",
       "    .dataframe thead th {\n",
       "        text-align: right;\n",
       "    }\n",
       "</style>\n",
       "<table border=\"1\" class=\"dataframe\">\n",
       "  <thead>\n",
       "    <tr style=\"text-align: right;\">\n",
       "      <th></th>\n",
       "      <th>PlayId</th>\n",
       "    </tr>\n",
       "    <tr>\n",
       "      <th>Season</th>\n",
       "      <th></th>\n",
       "    </tr>\n",
       "  </thead>\n",
       "  <tbody>\n",
       "    <tr>\n",
       "      <th>2017</th>\n",
       "      <td>11900</td>\n",
       "    </tr>\n",
       "    <tr>\n",
       "      <th>2018</th>\n",
       "      <td>11271</td>\n",
       "    </tr>\n",
       "    <tr>\n",
       "      <th>2019</th>\n",
       "      <td>7836</td>\n",
       "    </tr>\n",
       "  </tbody>\n",
       "</table>\n",
       "</div>"
      ],
      "text/plain": [
       "        PlayId\n",
       "Season        \n",
       "2017     11900\n",
       "2018     11271\n",
       "2019      7836"
      ]
     },
     "execution_count": 65,
     "metadata": {
      "tags": []
     },
     "output_type": "execute_result"
    }
   ],
   "source": [
    "play_indices.groupby('Season').count()"
   ]
  },
  {
   "cell_type": "code",
   "execution_count": null,
   "metadata": {
    "colab": {
     "base_uri": "https://localhost:8080/"
    },
    "id": "ITRBsTVviMGx",
    "outputId": "862db64b-a0a9-4340-ca12-ea68a577ecf3"
   },
   "outputs": [
    {
     "name": "stdout",
     "output_type": "stream",
     "text": [
      "We'll take 6201 plays for the test set.\n"
     ]
    }
   ],
   "source": [
    "nbr_test_records = int(play_indices.shape[0]*0.20)\n",
    "print(f\"We'll take {nbr_test_records} plays for the test set.\")"
   ]
  },
  {
   "cell_type": "code",
   "execution_count": null,
   "metadata": {
    "id": "PjfK4doZi8zQ"
   },
   "outputs": [],
   "source": [
    "test_play_ids = play_indices.loc[data.Season==2019,'PlayId'].sample(n=nbr_test_records).values"
   ]
  },
  {
   "cell_type": "code",
   "execution_count": null,
   "metadata": {
    "id": "8pVvdayfmXhQ"
   },
   "outputs": [],
   "source": [
    "test_set = data.loc[data.PlayId.isin(test_play_ids), :]"
   ]
  },
  {
   "cell_type": "code",
   "execution_count": null,
   "metadata": {
    "id": "dIyY5kt-nH_r"
   },
   "outputs": [],
   "source": [
    "train_set = data.loc[~data.PlayId.isin(test_play_ids), :]"
   ]
  },
  {
   "cell_type": "code",
   "execution_count": null,
   "metadata": {
    "colab": {
     "base_uri": "https://localhost:8080/"
    },
    "id": "t1G_-wW7nQ23",
    "outputId": "ab2e12d9-0b41-41eb-ad4a-7c6b33256c4a"
   },
   "outputs": [
    {
     "name": "stdout",
     "output_type": "stream",
     "text": [
      "The training set contains 545732 records.\n"
     ]
    }
   ],
   "source": [
    "print(f\"The training set contains {train_set.shape[0]} records.\")"
   ]
  },
  {
   "cell_type": "code",
   "execution_count": null,
   "metadata": {
    "colab": {
     "base_uri": "https://localhost:8080/"
    },
    "id": "P6w9LptZnbV5",
    "outputId": "3d0d750d-132d-4d21-b7bd-707add502b0c"
   },
   "outputs": [
    {
     "name": "stdout",
     "output_type": "stream",
     "text": [
      "The test set contains 136422 records.\n"
     ]
    }
   ],
   "source": [
    "print(f\"The test set contains {test_set.shape[0]} records.\")"
   ]
  },
  {
   "cell_type": "code",
   "execution_count": null,
   "metadata": {
    "id": "Em_W-1conn6C"
   },
   "outputs": [],
   "source": [
    "# Now split the training set into training and validation\n",
    "play_indices = train_set[['PlayId', 'Season']].drop_duplicates(subset='PlayId')"
   ]
  },
  {
   "cell_type": "code",
   "execution_count": null,
   "metadata": {
    "colab": {
     "base_uri": "https://localhost:8080/",
     "height": 173
    },
    "id": "sN-h1agFotvR",
    "outputId": "985a056c-ba3b-4239-9bc6-6b7259677ba2"
   },
   "outputs": [
    {
     "data": {
      "text/html": [
       "<div>\n",
       "<style scoped>\n",
       "    .dataframe tbody tr th:only-of-type {\n",
       "        vertical-align: middle;\n",
       "    }\n",
       "\n",
       "    .dataframe tbody tr th {\n",
       "        vertical-align: top;\n",
       "    }\n",
       "\n",
       "    .dataframe thead th {\n",
       "        text-align: right;\n",
       "    }\n",
       "</style>\n",
       "<table border=\"1\" class=\"dataframe\">\n",
       "  <thead>\n",
       "    <tr style=\"text-align: right;\">\n",
       "      <th></th>\n",
       "      <th>PlayId</th>\n",
       "    </tr>\n",
       "    <tr>\n",
       "      <th>Season</th>\n",
       "      <th></th>\n",
       "    </tr>\n",
       "  </thead>\n",
       "  <tbody>\n",
       "    <tr>\n",
       "      <th>2017</th>\n",
       "      <td>11900</td>\n",
       "    </tr>\n",
       "    <tr>\n",
       "      <th>2018</th>\n",
       "      <td>11271</td>\n",
       "    </tr>\n",
       "    <tr>\n",
       "      <th>2019</th>\n",
       "      <td>1635</td>\n",
       "    </tr>\n",
       "  </tbody>\n",
       "</table>\n",
       "</div>"
      ],
      "text/plain": [
       "        PlayId\n",
       "Season        \n",
       "2017     11900\n",
       "2018     11271\n",
       "2019      1635"
      ]
     },
     "execution_count": 73,
     "metadata": {
      "tags": []
     },
     "output_type": "execute_result"
    }
   ],
   "source": [
    "play_indices.groupby('Season').count()"
   ]
  },
  {
   "cell_type": "code",
   "execution_count": null,
   "metadata": {
    "colab": {
     "base_uri": "https://localhost:8080/"
    },
    "id": "kt_4HIaro4JP",
    "outputId": "5089c059-fbb0-47c4-950c-2c8b2230c22d"
   },
   "outputs": [
    {
     "name": "stdout",
     "output_type": "stream",
     "text": [
      "We'll take 4961 plays for the validation set from the 2018 and 2019 data.\n"
     ]
    }
   ],
   "source": [
    "nbr_val_records = int(play_indices.shape[0]*0.2)\n",
    "print(f\"We'll take {nbr_val_records} plays for the validation set from the 2018 and 2019 data.\")"
   ]
  },
  {
   "cell_type": "code",
   "execution_count": null,
   "metadata": {
    "id": "JCelJoxspJh2"
   },
   "outputs": [],
   "source": [
    "val_indices = play_indices.loc[play_indices.Season.isin([2018, 2019]), 'PlayId'].sample(n=nbr_val_records)"
   ]
  },
  {
   "cell_type": "code",
   "execution_count": null,
   "metadata": {
    "colab": {
     "base_uri": "https://localhost:8080/"
    },
    "id": "-9ro6UeEqmxC",
    "outputId": "61bb9e3e-4a60-4470-c88c-6f84b5039ecf"
   },
   "outputs": [
    {
     "name": "stdout",
     "output_type": "stream",
     "text": [
      "The validation set contains 109142 records.\n",
      "The training set contains 436590 records.\n"
     ]
    }
   ],
   "source": [
    "val_set = train_set.loc[train_set.PlayId.isin(val_indices), :]\n",
    "print(f\"The validation set contains {val_set.shape[0]} records.\")\n",
    "\n",
    "train_set = train_set.loc[~train_set.PlayId.isin(val_indices), :]\n",
    "print(f\"The training set contains {train_set.shape[0]} records.\")"
   ]
  },
  {
   "cell_type": "markdown",
   "metadata": {
    "id": "nsNflmDArv8o"
   },
   "source": [
    "**Model training**"
   ]
  },
  {
   "cell_type": "code",
   "execution_count": null,
   "metadata": {
    "id": "mU8vXIfor9M-"
   },
   "outputs": [],
   "source": [
    "trainX = train_set.loc[:, train_set.columns != 'Yards']\n",
    "trainY = train_set.loc[: , ['PlayId','Yards']].drop_duplicates()\n",
    "trainY.set_index(keys='PlayId', inplace=True)"
   ]
  },
  {
   "cell_type": "code",
   "execution_count": null,
   "metadata": {
    "id": "1czv-42ItSUs"
   },
   "outputs": [],
   "source": [
    "valX = val_set.loc[:, val_set.columns != 'Yards']\n",
    "valY = val_set.loc[:, ['PlayId','Yards']].drop_duplicates()\n",
    "valY.set_index(keys='PlayId', inplace=True)"
   ]
  },
  {
   "cell_type": "code",
   "execution_count": null,
   "metadata": {
    "id": "wL8WbYo1w-S6"
   },
   "outputs": [],
   "source": [
    "EPOCHS = 3\n",
    "BATCH_SIZE=64"
   ]
  },
  {
   "cell_type": "code",
   "execution_count": null,
   "metadata": {
    "id": "0bITRJjXPKCv"
   },
   "outputs": [],
   "source": [
    "import os\n",
    "import datetime"
   ]
  },
  {
   "cell_type": "code",
   "execution_count": null,
   "metadata": {
    "id": "jG5LwLTLO7fR"
   },
   "outputs": [],
   "source": [
    "logdir = os.path.join(\"/content/gdrive/MyDrive/nfl_big_data_bowl_2020/logs\", datetime.datetime.now().strftime(\"%Y%m%d-%H%M%S\"))\n",
    "tensorboard_callback = tf.keras.callbacks.TensorBoard(logdir, histogram_freq=1)"
   ]
  },
  {
   "cell_type": "code",
   "execution_count": null,
   "metadata": {
    "id": "JW8Wl6hZaATW"
   },
   "outputs": [],
   "source": [
    "# Generators\n",
    "training_generator = generator(trainX, trainY, batch_size=BATCH_SIZE)\n",
    "validation_generator = generator(valX, valY, batch_size=BATCH_SIZE)"
   ]
  },
  {
   "cell_type": "code",
   "execution_count": null,
   "metadata": {
    "colab": {
     "base_uri": "https://localhost:8080/"
    },
    "id": "SnbOSkpcm6uJ",
    "outputId": "d9cd1b0a-d9d5-43f3-a91a-c331606571ba"
   },
   "outputs": [
    {
     "name": "stdout",
     "output_type": "stream",
     "text": [
      "6821/6821 [==============================] - ETA: 0s - loss: 7.4860 - crps_fn: 7.4676"
     ]
    }
   ],
   "source": [
    "H = model.fit(x=training_generator, validation_data=validation_generator, steps_per_epoch=trainX.shape[0] // BATCH_SIZE, callbacks=[tensorboard_callback])"
   ]
  },
  {
   "cell_type": "code",
   "execution_count": null,
   "metadata": {
    "id": "1hmqHEAVP-gA"
   },
   "outputs": [],
   "source": [
    "%load_ext tensorboard"
   ]
  },
  {
   "cell_type": "code",
   "execution_count": null,
   "metadata": {
    "id": "0Kef9_FNPmhB"
   },
   "outputs": [],
   "source": [
    "%tensorboard --logdir \"/content/gdrive/MyDrive/nfl_big_data_bowl_2020/logs\""
   ]
  },
  {
   "cell_type": "markdown",
   "metadata": {
    "id": "oUiLs6gGRhM1"
   },
   "source": [
    "# References"
   ]
  },
  {
   "cell_type": "markdown",
   "metadata": {
    "id": "wbU5RT5sRhM2"
   },
   "source": [
    "- [1] https://www.kaggle.com/c/nfl-big-data-bowl-2020/discussion/119400\n",
    "- [2] https://www.kaggle.com/statsbymichaellopez/nfl-tracking-wrangling-voronoi-and-sonars\n",
    "- [3] https://www.kaggle.com/robikscube/nfl-big-data-bowl-plotting-player-position"
   ]
  }
 ],
 "metadata": {
  "accelerator": "GPU",
  "colab": {
   "collapsed_sections": [
    "oUiLs6gGRhM1"
   ],
   "name": "Copy of Kaggle_NFL_big_data_bowl_2020.ipynb",
   "provenance": []
  },
  "kernelspec": {
   "display_name": "Python 3",
   "language": "python",
   "name": "python3"
  },
  "language_info": {
   "codemirror_mode": {
    "name": "ipython",
    "version": 3
   },
   "file_extension": ".py",
   "mimetype": "text/x-python",
   "name": "python",
   "nbconvert_exporter": "python",
   "pygments_lexer": "ipython3",
   "version": "3.7.3"
  }
 },
 "nbformat": 4,
 "nbformat_minor": 1
}
